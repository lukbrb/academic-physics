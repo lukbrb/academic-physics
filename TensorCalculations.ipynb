{
 "cells": [
  {
   "cell_type": "markdown",
   "id": "8dfaa5a8-3199-4d87-96ed-9cc1137ef40d",
   "metadata": {},
   "source": [
    "# Calculations\n",
    "\n",
    "Calculs des tenseurs liés aux champs gravitationnels évoqués"
   ]
  },
  {
   "cell_type": "code",
   "execution_count": 1,
   "id": "3d71e9f5-cc2e-45d1-90eb-cf52e27f161f",
   "metadata": {},
   "outputs": [],
   "source": [
    "import pytearcat as pt"
   ]
  },
  {
   "cell_type": "markdown",
   "id": "23c6bb57-37d5-49b3-aae1-b9a79e4e962e",
   "metadata": {},
   "source": [
    "## 1.1- Métrique initiale"
   ]
  },
  {
   "cell_type": "code",
   "execution_count": 2,
   "id": "12e0e2e0-8440-432c-8426-1841d5c30df4",
   "metadata": {},
   "outputs": [
    {
     "name": "stdout",
     "output_type": "stream",
     "text": [
      "Remember that the time coordinate must be the first coordinate.\n",
      "\n",
      "Dimension = 4\n",
      "Coordinates = t,r,phi,z\n",
      "Metric defined successfully: \n",
      "\n"
     ]
    },
    {
     "data": {
      "text/latex": [
       "$\\displaystyle ds^2 = 1 \\cdot dt^2- A^{2} \\cdot dr^2- r^{2} \\cdot d\\phi^2- A^{2} \\cdot dz^2$"
      ],
      "text/plain": [
       "<IPython.core.display.Math object>"
      ]
     },
     "metadata": {},
     "output_type": "display_data"
    },
    {
     "data": {
      "text/latex": [
       "$\\displaystyle \\left[\\begin{matrix}1 & 0 & 0 & 0\\\\0 & - A^{2} & 0 & 0\\\\0 & 0 & - r^{2} & 0\\\\0 & 0 & 0 & - A^{2}\\end{matrix}\\right]$"
      ],
      "text/plain": [
       "Matrix([\n",
       "[1,     0,     0,     0],\n",
       "[0, -A**2,     0,     0],\n",
       "[0,     0, -r**2,     0],\n",
       "[0,     0,     0, -A**2]])"
      ]
     },
     "metadata": {},
     "output_type": "display_data"
    },
    {
     "data": {
      "text/latex": [
       "Christoffel $\\Gamma_{\\alpha \\beta \\gamma}$ and $\\Gamma^{\\alpha}_{\\beta \\gamma}$"
      ],
      "text/plain": [
       "<IPython.core.display.Latex object>"
      ]
     },
     "metadata": {},
     "output_type": "display_data"
    },
    {
     "data": {
      "application/vnd.jupyter.widget-view+json": {
       "model_id": "60ec19b0f3404636abe9d37dc1c43e94",
       "version_major": 2,
       "version_minor": 0
      },
      "text/plain": [
       "  0%|          | 0/64 [00:00<?, ?it/s]"
      ]
     },
     "metadata": {},
     "output_type": "display_data"
    },
    {
     "data": {
      "text/latex": [
       "$\\displaystyle {\\Gamma}{}_{1}\\,{}_{2}\\,{}_{2}\\, = r$"
      ],
      "text/plain": [
       "<IPython.core.display.Math object>"
      ]
     },
     "metadata": {},
     "output_type": "display_data"
    },
    {
     "data": {
      "text/latex": [
       "$\\displaystyle {\\Gamma}{}_{2}\\,{}_{1}\\,{}_{2}\\, = - r$"
      ],
      "text/plain": [
       "<IPython.core.display.Math object>"
      ]
     },
     "metadata": {},
     "output_type": "display_data"
    },
    {
     "data": {
      "text/latex": [
       "$\\displaystyle {\\Gamma}{}_{2}\\,{}_{2}\\,{}_{1}\\, = - r$"
      ],
      "text/plain": [
       "<IPython.core.display.Math object>"
      ]
     },
     "metadata": {},
     "output_type": "display_data"
    },
    {
     "data": {
      "text/latex": [
       "$\\displaystyle {\\Gamma}{}^{1}\\,{}_{2}\\,{}_{2}\\, = - \\frac{r}{A^{2}}$"
      ],
      "text/plain": [
       "<IPython.core.display.Math object>"
      ]
     },
     "metadata": {},
     "output_type": "display_data"
    },
    {
     "data": {
      "text/latex": [
       "$\\displaystyle {\\Gamma}{}^{2}\\,{}_{1}\\,{}_{2}\\, = \\frac{1}{r}$"
      ],
      "text/plain": [
       "<IPython.core.display.Math object>"
      ]
     },
     "metadata": {},
     "output_type": "display_data"
    },
    {
     "data": {
      "text/latex": [
       "$\\displaystyle {\\Gamma}{}^{2}\\,{}_{2}\\,{}_{1}\\, = \\frac{1}{r}$"
      ],
      "text/plain": [
       "<IPython.core.display.Math object>"
      ]
     },
     "metadata": {},
     "output_type": "display_data"
    },
    {
     "data": {
      "text/latex": [
       "Riemann Tensor $R^{\\alpha}_{\\beta \\gamma \\delta}$"
      ],
      "text/plain": [
       "<IPython.core.display.Latex object>"
      ]
     },
     "metadata": {},
     "output_type": "display_data"
    },
    {
     "data": {
      "application/vnd.jupyter.widget-view+json": {
       "model_id": "0b75cf3ab4e54fc082dd02ecc61f235a",
       "version_major": 2,
       "version_minor": 0
      },
      "text/plain": [
       "  0%|          | 0/256 [00:00<?, ?it/s]"
      ]
     },
     "metadata": {},
     "output_type": "display_data"
    },
    {
     "name": "stdout",
     "output_type": "stream",
     "text": [
      "All components are zero\n"
     ]
    },
    {
     "data": {
      "text/latex": [
       "Ricci Tensor $R_{\\alpha \\beta}$"
      ],
      "text/plain": [
       "<IPython.core.display.Latex object>"
      ]
     },
     "metadata": {},
     "output_type": "display_data"
    },
    {
     "data": {
      "application/vnd.jupyter.widget-view+json": {
       "model_id": "408a3226eb95409cb2396deb8f7ff832",
       "version_major": 2,
       "version_minor": 0
      },
      "text/plain": [
       "  0%|          | 0/16 [00:00<?, ?it/s]"
      ]
     },
     "metadata": {},
     "output_type": "display_data"
    },
    {
     "name": "stdout",
     "output_type": "stream",
     "text": [
      "All components are zero\n"
     ]
    },
    {
     "data": {
      "application/vnd.jupyter.widget-view+json": {
       "model_id": "14dfee7c4b144a5bbd9f6b1447d88c9c",
       "version_major": 2,
       "version_minor": 0
      },
      "text/plain": [
       "  0%|          | 0/16 [00:00<?, ?it/s]"
      ]
     },
     "metadata": {},
     "output_type": "display_data"
    },
    {
     "data": {
      "text/latex": [
       "Ricci Scalar $R$"
      ],
      "text/plain": [
       "<IPython.core.display.Latex object>"
      ]
     },
     "metadata": {},
     "output_type": "display_data"
    },
    {
     "data": {
      "text/latex": [
       "$\\displaystyle 0$"
      ],
      "text/plain": [
       "<IPython.core.display.Math object>"
      ]
     },
     "metadata": {},
     "output_type": "display_data"
    },
    {
     "data": {
      "text/latex": [
       "Einstein Tensor $G_{\\alpha \\beta}$"
      ],
      "text/plain": [
       "<IPython.core.display.Latex object>"
      ]
     },
     "metadata": {},
     "output_type": "display_data"
    },
    {
     "data": {
      "application/vnd.jupyter.widget-view+json": {
       "model_id": "52080669080b4f9cab544badd1532574",
       "version_major": 2,
       "version_minor": 0
      },
      "text/plain": [
       "  0%|          | 0/16 [00:00<?, ?it/s]"
      ]
     },
     "metadata": {},
     "output_type": "display_data"
    },
    {
     "name": "stdout",
     "output_type": "stream",
     "text": [
      "All components are zero\n"
     ]
    }
   ],
   "source": [
    "# Définition des coordonnées\n",
    "t, r, phi, z = pt.coords(\"t,r,phi,z\")\n",
    "# Définition des con&stantes \n",
    "A = pt.con(\"A\")\n",
    "\n",
    "# Définition de la métrique \n",
    "ds = \"ds2 = dt**2 - r**2*dphi**2 - A**2*(dr**2 + dz**2)\"\n",
    "g = pt.metric(ds)\n",
    "\n",
    "# Symboles de Christoffel\n",
    "chstfl = pt.christoffel()\n",
    "chstfl.display()\n",
    "\n",
    "# Riemann's tensor\n",
    "R = pt.riemann()\n",
    "R.display('^,_,_,_')\n",
    "\n",
    "# Einstein's tensor\n",
    "ric = pt.ricci()\n",
    "ric.display('_,_', aslist=True)\n",
    "\n",
    "scalar = pt.riccis()\n",
    "pt.display(scalar)\n",
    "\n",
    "G = pt.einstein()\n",
    "G.display(aslist=True)"
   ]
  },
  {
   "cell_type": "markdown",
   "id": "b919fa61-53de-4a4c-af13-789672b77e58",
   "metadata": {},
   "source": [
    "## 1.2 - Métrique primée, et source"
   ]
  },
  {
   "cell_type": "code",
   "execution_count": 3,
   "id": "68230123-85cb-42d4-88ae-6e3c25cca6c5",
   "metadata": {},
   "outputs": [
    {
     "name": "stdout",
     "output_type": "stream",
     "text": [
      "Remember that the time coordinate must be the first coordinate.\n",
      "Constant(s) already defined.\n"
     ]
    },
    {
     "name": "stdin",
     "output_type": "stream",
     "text": [
      "The metric has already been defined. Do you want to overwrite it? (yes/no) yes\n"
     ]
    },
    {
     "name": "stdout",
     "output_type": "stream",
     "text": [
      "The metric has been redefined. Standard tensors have been deleted.\n",
      "\n",
      "Dimension = 4\n",
      "Coordinates = t,rp,phip,zp\n",
      "Metric defined successfully: \n",
      "\n"
     ]
    },
    {
     "data": {
      "text/latex": [
       "$\\displaystyle ds^2 = 1 \\cdot dt^2-1 \\cdot drp^2- rp^{2} \\cdot dphip^2-1 \\cdot dzp^2$"
      ],
      "text/plain": [
       "<IPython.core.display.Math object>"
      ]
     },
     "metadata": {},
     "output_type": "display_data"
    },
    {
     "data": {
      "image/png": "[encoded data removed]",
      "text/latex": [
       "$\\displaystyle \\left[\\begin{matrix}1 & 0 & 0 & 0\\\\0 & -1 & 0 & 0\\\\0 & 0 & - rp^{2} & 0\\\\0 & 0 & 0 & -1\\end{matrix}\\right]$"
      ],
      "text/plain": [
       "⎡1  0    0    0 ⎤\n",
       "⎢               ⎥\n",
       "⎢0  -1   0    0 ⎥\n",
       "⎢               ⎥\n",
       "⎢          2    ⎥\n",
       "⎢0  0   -rp   0 ⎥\n",
       "⎢               ⎥\n",
       "⎣0  0    0    -1⎦"
      ]
     },
     "metadata": {},
     "output_type": "display_data"
    },
    {
     "data": {
      "text/latex": [
       "Christoffel $\\Gamma_{\\alpha \\beta \\gamma}$ and $\\Gamma^{\\alpha}_{\\beta \\gamma}$"
      ],
      "text/plain": [
       "<IPython.core.display.Latex object>"
      ]
     },
     "metadata": {},
     "output_type": "display_data"
    },
    {
     "data": {
      "application/vnd.jupyter.widget-view+json": {
       "model_id": "1dd4ac674aa64f118a848fd205d67925",
       "version_major": 2,
       "version_minor": 0
      },
      "text/plain": [
       "  0%|          | 0/64 [00:00<?, ?it/s]"
      ]
     },
     "metadata": {},
     "output_type": "display_data"
    },
    {
     "data": {
      "text/latex": [
       "$\\displaystyle {\\Gamma}{}_{1}\\,{}_{2}\\,{}_{2}\\, = rp$"
      ],
      "text/plain": [
       "<IPython.core.display.Math object>"
      ]
     },
     "metadata": {},
     "output_type": "display_data"
    },
    {
     "data": {
      "text/latex": [
       "$\\displaystyle {\\Gamma}{}_{2}\\,{}_{1}\\,{}_{2}\\, = - rp$"
      ],
      "text/plain": [
       "<IPython.core.display.Math object>"
      ]
     },
     "metadata": {},
     "output_type": "display_data"
    },
    {
     "data": {
      "text/latex": [
       "$\\displaystyle {\\Gamma}{}_{2}\\,{}_{2}\\,{}_{1}\\, = - rp$"
      ],
      "text/plain": [
       "<IPython.core.display.Math object>"
      ]
     },
     "metadata": {},
     "output_type": "display_data"
    },
    {
     "data": {
      "text/latex": [
       "$\\displaystyle {\\Gamma}{}^{1}\\,{}_{2}\\,{}_{2}\\, = - rp$"
      ],
      "text/plain": [
       "<IPython.core.display.Math object>"
      ]
     },
     "metadata": {},
     "output_type": "display_data"
    },
    {
     "data": {
      "text/latex": [
       "$\\displaystyle {\\Gamma}{}^{2}\\,{}_{1}\\,{}_{2}\\, = \\frac{1}{rp}$"
      ],
      "text/plain": [
       "<IPython.core.display.Math object>"
      ]
     },
     "metadata": {},
     "output_type": "display_data"
    },
    {
     "data": {
      "text/latex": [
       "$\\displaystyle {\\Gamma}{}^{2}\\,{}_{2}\\,{}_{1}\\, = \\frac{1}{rp}$"
      ],
      "text/plain": [
       "<IPython.core.display.Math object>"
      ]
     },
     "metadata": {},
     "output_type": "display_data"
    },
    {
     "data": {
      "text/latex": [
       "Riemann Tensor $R^{\\alpha}_{\\beta \\gamma \\delta}$"
      ],
      "text/plain": [
       "<IPython.core.display.Latex object>"
      ]
     },
     "metadata": {},
     "output_type": "display_data"
    },
    {
     "data": {
      "application/vnd.jupyter.widget-view+json": {
       "model_id": "72aca160cae048a9a4c6e070b313f9be",
       "version_major": 2,
       "version_minor": 0
      },
      "text/plain": [
       "  0%|          | 0/256 [00:00<?, ?it/s]"
      ]
     },
     "metadata": {},
     "output_type": "display_data"
    },
    {
     "name": "stdout",
     "output_type": "stream",
     "text": [
      "All components are zero\n"
     ]
    },
    {
     "data": {
      "text/latex": [
       "Ricci Tensor $R_{\\alpha \\beta}$"
      ],
      "text/plain": [
       "<IPython.core.display.Latex object>"
      ]
     },
     "metadata": {},
     "output_type": "display_data"
    },
    {
     "data": {
      "application/vnd.jupyter.widget-view+json": {
       "model_id": "1cfcddaea3684a7894756a5e90f36088",
       "version_major": 2,
       "version_minor": 0
      },
      "text/plain": [
       "  0%|          | 0/16 [00:00<?, ?it/s]"
      ]
     },
     "metadata": {},
     "output_type": "display_data"
    },
    {
     "name": "stdout",
     "output_type": "stream",
     "text": [
      "All components are zero\n"
     ]
    },
    {
     "data": {
      "application/vnd.jupyter.widget-view+json": {
       "model_id": "1314567183cc4cdaa5ab695f96529924",
       "version_major": 2,
       "version_minor": 0
      },
      "text/plain": [
       "  0%|          | 0/16 [00:00<?, ?it/s]"
      ]
     },
     "metadata": {},
     "output_type": "display_data"
    },
    {
     "data": {
      "text/latex": [
       "Ricci Scalar $R$"
      ],
      "text/plain": [
       "<IPython.core.display.Latex object>"
      ]
     },
     "metadata": {},
     "output_type": "display_data"
    },
    {
     "data": {
      "text/latex": [
       "$\\displaystyle 0$"
      ],
      "text/plain": [
       "<IPython.core.display.Math object>"
      ]
     },
     "metadata": {},
     "output_type": "display_data"
    },
    {
     "data": {
      "text/latex": [
       "Einstein Tensor $G_{\\alpha \\beta}$"
      ],
      "text/plain": [
       "<IPython.core.display.Latex object>"
      ]
     },
     "metadata": {},
     "output_type": "display_data"
    },
    {
     "data": {
      "application/vnd.jupyter.widget-view+json": {
       "model_id": "c8d01b0dd1a040e1b5f43ec39f704fe9",
       "version_major": 2,
       "version_minor": 0
      },
      "text/plain": [
       "  0%|          | 0/16 [00:00<?, ?it/s]"
      ]
     },
     "metadata": {},
     "output_type": "display_data"
    },
    {
     "name": "stdout",
     "output_type": "stream",
     "text": [
      "All components are zero\n"
     ]
    }
   ],
   "source": [
    "# Définition des coordonnées\n",
    "t, rp, phip, zp = pt.coords(\"t,rp,phip,zp\")\n",
    "# Définition des constantes \n",
    "A = pt.con(\"A\")\n",
    "\n",
    "# Définition de la métrique \n",
    "ds = \"ds2 = dt**2 - rp**2*dphip**2 - (drp**2 + dzp**2)\"\n",
    "g = pt.metric(ds)\n",
    "\n",
    "# Symboles de Christoffel\n",
    "chstfl = pt.christoffel()\n",
    "chstfl.display()\n",
    "\n",
    "# Riemann's tensor\n",
    "R = pt.riemann()\n",
    "R.display('^,_,_,_')\n",
    "\n",
    "# Einstein's tensor\n",
    "ric = pt.ricci()\n",
    "ric.display('_,_', aslist=True)\n",
    "\n",
    "scalar = pt.riccis()\n",
    "pt.display(scalar)\n",
    "\n",
    "G = pt.einstein()\n",
    "G.display(aslist=True)"
   ]
  },
  {
   "cell_type": "markdown",
   "id": "80e73a2a-645d-429a-b3b3-983477d98e47",
   "metadata": {},
   "source": [
    "## 1.3 - Métrique de la source gravitationnelle"
   ]
  },
  {
   "cell_type": "code",
   "execution_count": 5,
   "id": "e4f0d9e5-390f-4f0f-b09f-2cc3b8d04e81",
   "metadata": {},
   "outputs": [
    {
     "name": "stdout",
     "output_type": "stream",
     "text": [
      "Remember that the time coordinate must be the first coordinate.\n",
      "Constant(s) already defined.\n"
     ]
    },
    {
     "name": "stdin",
     "output_type": "stream",
     "text": [
      "The metric has already been defined. Do you want to overwrite it? (yes/no) yes\n"
     ]
    },
    {
     "name": "stdout",
     "output_type": "stream",
     "text": [
      "The metric has been redefined. Standard tensors have been deleted.\n",
      "\n",
      "Dimension = 4\n",
      "Coordinates = t,r,phi,z\n",
      "Metric defined successfully: \n",
      "\n"
     ]
    },
    {
     "data": {
      "text/latex": [
       "$\\displaystyle ds^2 = 1 \\cdot dt^2-1 \\cdot dr^2- f^{2}{\\left(r \\right)} \\cdot d\\phi^2-1 \\cdot dz^2$"
      ],
      "text/plain": [
       "<IPython.core.display.Math object>"
      ]
     },
     "metadata": {},
     "output_type": "display_data"
    },
    {
     "data": {
      "image/png": "[encoded data removed]",
      "text/latex": [
       "$\\displaystyle \\left[\\begin{matrix}1 & 0 & 0 & 0\\\\0 & -1 & 0 & 0\\\\0 & 0 & - f^{2}{\\left(r \\right)} & 0\\\\0 & 0 & 0 & -1\\end{matrix}\\right]$"
      ],
      "text/plain": [
       "⎡1  0     0     0 ⎤\n",
       "⎢                 ⎥\n",
       "⎢0  -1    0     0 ⎥\n",
       "⎢                 ⎥\n",
       "⎢         2       ⎥\n",
       "⎢0  0   -f (r)  0 ⎥\n",
       "⎢                 ⎥\n",
       "⎣0  0     0     -1⎦"
      ]
     },
     "metadata": {},
     "output_type": "display_data"
    },
    {
     "data": {
      "text/latex": [
       "Christoffel $\\Gamma_{\\alpha \\beta \\gamma}$ and $\\Gamma^{\\alpha}_{\\beta \\gamma}$"
      ],
      "text/plain": [
       "<IPython.core.display.Latex object>"
      ]
     },
     "metadata": {},
     "output_type": "display_data"
    },
    {
     "data": {
      "application/vnd.jupyter.widget-view+json": {
       "model_id": "d436ce058261426f8a75e434afff28c6",
       "version_major": 2,
       "version_minor": 0
      },
      "text/plain": [
       "  0%|          | 0/64 [00:00<?, ?it/s]"
      ]
     },
     "metadata": {},
     "output_type": "display_data"
    },
    {
     "data": {
      "text/latex": [
       "$\\displaystyle {\\Gamma}{}_{1}\\,{}_{2}\\,{}_{2}\\, = f{\\left(r \\right)} \\frac{d}{d r} f{\\left(r \\right)}$"
      ],
      "text/plain": [
       "<IPython.core.display.Math object>"
      ]
     },
     "metadata": {},
     "output_type": "display_data"
    },
    {
     "data": {
      "text/latex": [
       "$\\displaystyle {\\Gamma}{}_{2}\\,{}_{1}\\,{}_{2}\\, = - f{\\left(r \\right)} \\frac{d}{d r} f{\\left(r \\right)}$"
      ],
      "text/plain": [
       "<IPython.core.display.Math object>"
      ]
     },
     "metadata": {},
     "output_type": "display_data"
    },
    {
     "data": {
      "text/latex": [
       "$\\displaystyle {\\Gamma}{}_{2}\\,{}_{2}\\,{}_{1}\\, = - f{\\left(r \\right)} \\frac{d}{d r} f{\\left(r \\right)}$"
      ],
      "text/plain": [
       "<IPython.core.display.Math object>"
      ]
     },
     "metadata": {},
     "output_type": "display_data"
    },
    {
     "data": {
      "text/latex": [
       "$\\displaystyle {\\Gamma}{}^{1}\\,{}_{2}\\,{}_{2}\\, = - f{\\left(r \\right)} \\frac{d}{d r} f{\\left(r \\right)}$"
      ],
      "text/plain": [
       "<IPython.core.display.Math object>"
      ]
     },
     "metadata": {},
     "output_type": "display_data"
    },
    {
     "data": {
      "text/latex": [
       "$\\displaystyle {\\Gamma}{}^{2}\\,{}_{1}\\,{}_{2}\\, = \\frac{\\frac{d}{d r} f{\\left(r \\right)}}{f{\\left(r \\right)}}$"
      ],
      "text/plain": [
       "<IPython.core.display.Math object>"
      ]
     },
     "metadata": {},
     "output_type": "display_data"
    },
    {
     "data": {
      "text/latex": [
       "$\\displaystyle {\\Gamma}{}^{2}\\,{}_{2}\\,{}_{1}\\, = \\frac{\\frac{d}{d r} f{\\left(r \\right)}}{f{\\left(r \\right)}}$"
      ],
      "text/plain": [
       "<IPython.core.display.Math object>"
      ]
     },
     "metadata": {},
     "output_type": "display_data"
    },
    {
     "data": {
      "text/latex": [
       "Riemann Tensor $R^{\\alpha}_{\\beta \\gamma \\delta}$"
      ],
      "text/plain": [
       "<IPython.core.display.Latex object>"
      ]
     },
     "metadata": {},
     "output_type": "display_data"
    },
    {
     "data": {
      "application/vnd.jupyter.widget-view+json": {
       "model_id": "2e3db8a6b7214451902a99121c95a27e",
       "version_major": 2,
       "version_minor": 0
      },
      "text/plain": [
       "  0%|          | 0/256 [00:00<?, ?it/s]"
      ]
     },
     "metadata": {},
     "output_type": "display_data"
    },
    {
     "data": {
      "text/latex": [
       "$\\displaystyle {R}{}^{1}\\,{}_{2}\\,{}_{1}\\,{}_{2}\\, = - f{\\left(r \\right)} \\frac{d^{2}}{d r^{2}} f{\\left(r \\right)}$"
      ],
      "text/plain": [
       "<IPython.core.display.Math object>"
      ]
     },
     "metadata": {},
     "output_type": "display_data"
    },
    {
     "data": {
      "text/latex": [
       "$\\displaystyle {R}{}^{1}\\,{}_{2}\\,{}_{2}\\,{}_{1}\\, = f{\\left(r \\right)} \\frac{d^{2}}{d r^{2}} f{\\left(r \\right)}$"
      ],
      "text/plain": [
       "<IPython.core.display.Math object>"
      ]
     },
     "metadata": {},
     "output_type": "display_data"
    },
    {
     "data": {
      "text/latex": [
       "$\\displaystyle {R}{}^{2}\\,{}_{1}\\,{}_{1}\\,{}_{2}\\, = \\frac{\\frac{d^{2}}{d r^{2}} f{\\left(r \\right)}}{f{\\left(r \\right)}}$"
      ],
      "text/plain": [
       "<IPython.core.display.Math object>"
      ]
     },
     "metadata": {},
     "output_type": "display_data"
    },
    {
     "data": {
      "text/latex": [
       "$\\displaystyle {R}{}^{2}\\,{}_{1}\\,{}_{2}\\,{}_{1}\\, = - \\frac{\\frac{d^{2}}{d r^{2}} f{\\left(r \\right)}}{f{\\left(r \\right)}}$"
      ],
      "text/plain": [
       "<IPython.core.display.Math object>"
      ]
     },
     "metadata": {},
     "output_type": "display_data"
    },
    {
     "data": {
      "text/latex": [
       "Ricci Tensor $R_{\\alpha \\beta}$"
      ],
      "text/plain": [
       "<IPython.core.display.Latex object>"
      ]
     },
     "metadata": {},
     "output_type": "display_data"
    },
    {
     "data": {
      "application/vnd.jupyter.widget-view+json": {
       "model_id": "c54e5a383e7c4ac6b4bc1d5cdb5087d8",
       "version_major": 2,
       "version_minor": 0
      },
      "text/plain": [
       "  0%|          | 0/16 [00:00<?, ?it/s]"
      ]
     },
     "metadata": {},
     "output_type": "display_data"
    },
    {
     "data": {
      "text/latex": [
       "$\\displaystyle {R}{}_{1}\\,{}_{1}\\, = - \\frac{\\frac{d^{2}}{d r^{2}} f{\\left(r \\right)}}{f{\\left(r \\right)}}$"
      ],
      "text/plain": [
       "<IPython.core.display.Math object>"
      ]
     },
     "metadata": {},
     "output_type": "display_data"
    },
    {
     "data": {
      "text/latex": [
       "$\\displaystyle {R}{}_{2}\\,{}_{2}\\, = - f{\\left(r \\right)} \\frac{d^{2}}{d r^{2}} f{\\left(r \\right)}$"
      ],
      "text/plain": [
       "<IPython.core.display.Math object>"
      ]
     },
     "metadata": {},
     "output_type": "display_data"
    },
    {
     "data": {
      "application/vnd.jupyter.widget-view+json": {
       "model_id": "09a87cfe0bfe40269708b545c2a050da",
       "version_major": 2,
       "version_minor": 0
      },
      "text/plain": [
       "  0%|          | 0/16 [00:00<?, ?it/s]"
      ]
     },
     "metadata": {},
     "output_type": "display_data"
    },
    {
     "data": {
      "text/latex": [
       "Ricci Scalar $R$"
      ],
      "text/plain": [
       "<IPython.core.display.Latex object>"
      ]
     },
     "metadata": {},
     "output_type": "display_data"
    },
    {
     "data": {
      "text/latex": [
       "$\\displaystyle \\frac{2 \\frac{d^{2}}{d r^{2}} f{\\left(r \\right)}}{f{\\left(r \\right)}}$"
      ],
      "text/plain": [
       "<IPython.core.display.Math object>"
      ]
     },
     "metadata": {},
     "output_type": "display_data"
    },
    {
     "data": {
      "text/latex": [
       "Einstein Tensor $G_{\\alpha \\beta}$"
      ],
      "text/plain": [
       "<IPython.core.display.Latex object>"
      ]
     },
     "metadata": {},
     "output_type": "display_data"
    },
    {
     "data": {
      "application/vnd.jupyter.widget-view+json": {
       "model_id": "15724d4f6ac84cb0862772cb7eadd3f4",
       "version_major": 2,
       "version_minor": 0
      },
      "text/plain": [
       "  0%|          | 0/16 [00:00<?, ?it/s]"
      ]
     },
     "metadata": {},
     "output_type": "display_data"
    },
    {
     "data": {
      "text/latex": [
       "$\\displaystyle {G}{}_{0}\\,{}_{0}\\, = - \\frac{\\frac{d^{2}}{d r^{2}} f{\\left(r \\right)}}{f{\\left(r \\right)}}$"
      ],
      "text/plain": [
       "<IPython.core.display.Math object>"
      ]
     },
     "metadata": {},
     "output_type": "display_data"
    },
    {
     "data": {
      "text/latex": [
       "$\\displaystyle {G}{}_{3}\\,{}_{3}\\, = \\frac{\\frac{d^{2}}{d r^{2}} f{\\left(r \\right)}}{f{\\left(r \\right)}}$"
      ],
      "text/plain": [
       "<IPython.core.display.Math object>"
      ]
     },
     "metadata": {},
     "output_type": "display_data"
    }
   ],
   "source": [
    "# Définition des coordonnées\n",
    "t, r, phi, z = pt.coords(\"t,r,phi,z\")\n",
    "# Définition des constantes \n",
    "A, a, K = pt.con(\"A\", \"a\", \"K\")\n",
    "\n",
    "# Définition de f(r)\n",
    "f = pt.fun(\"f\", \"r\")\n",
    "# Définition de la métrique \n",
    "ds = \"ds2 = dt**2 - f**2*dphi**2 - (dr**2 + dz**2)\"\n",
    "g = pt.metric(ds)\n",
    "\n",
    "# Symboles de Christoffel\n",
    "chstfl = pt.christoffel()\n",
    "chstfl.display()\n",
    "\n",
    "# Riemann's tensor\n",
    "R = pt.riemann()\n",
    "R.display('^,_,_,_')\n",
    "\n",
    "# Einstein's tensor\n",
    "ric = pt.ricci()\n",
    "ric.display('_,_', aslist=True)\n",
    "\n",
    "scalar = pt.riccis()\n",
    "pt.display(scalar)\n",
    "\n",
    "G = pt.einstein('^, _')\n",
    "G.display(aslist=True)"
   ]
  },
  {
   "cell_type": "markdown",
   "id": "f546ffe8-4886-4146-8ef6-be91047d988c",
   "metadata": {},
   "source": [
    "## 2.1 - Métrique liée au cylindre \n",
    "\n",
    "On considère ici la métrique directement liée au potentiel vecteur $\\vec{A}$, comme décrit dans la section 3."
   ]
  },
  {
   "cell_type": "code",
   "execution_count": 7,
   "id": "d6b3d166-a821-43f4-8370-1d048ae6b7c3",
   "metadata": {
    "collapsed": true,
    "jupyter": {
     "outputs_hidden": true
    },
    "tags": []
   },
   "outputs": [
    {
     "name": "stdout",
     "output_type": "stream",
     "text": [
      "Remember that the time coordinate must be the first coordinate.\n",
      "Constant(s) already defined.\n"
     ]
    },
    {
     "name": "stdin",
     "output_type": "stream",
     "text": [
      "The metric has already been defined. Do you want to overwrite it? (yes/no) yes\n"
     ]
    },
    {
     "name": "stdout",
     "output_type": "stream",
     "text": [
      "The metric has been redefined. Standard tensors have been deleted.\n",
      "\n",
      "Dimension = 4\n",
      "Coordinates = t,x,y,z\n",
      "Metric defined successfully: \n",
      "\n"
     ]
    },
    {
     "data": {
      "text/latex": [
       "$\\displaystyle ds^2 = 1 \\cdot dt^2- \\frac{\\phi y}{\\rho} \\cdot dt \\cdot dx+\\frac{\\phi x}{\\rho} \\cdot dt \\cdot dy-1 \\cdot dx^2-1 \\cdot dy^2-1 \\cdot dz^2$"
      ],
      "text/plain": [
       "<IPython.core.display.Math object>"
      ]
     },
     "metadata": {},
     "output_type": "display_data"
    },
    {
     "data": {
      "image/png": "[encoded data removed]",
      "text/latex": [
       "$\\displaystyle \\left[\\begin{matrix}1 & - \\frac{\\phi y}{2 \\rho} & \\frac{\\phi x}{2 \\rho} & 0\\\\- \\frac{\\phi y}{2 \\rho} & -1 & 0 & 0\\\\\\frac{\\phi x}{2 \\rho} & 0 & -1 & 0\\\\0 & 0 & 0 & -1\\end{matrix}\\right]$"
      ],
      "text/plain": [
       "⎡       -φ⋅y   φ⋅x    ⎤\n",
       "⎢  1    ─────  ───  0 ⎥\n",
       "⎢        2⋅ρ   2⋅ρ    ⎥\n",
       "⎢                     ⎥\n",
       "⎢-φ⋅y                 ⎥\n",
       "⎢─────   -1     0   0 ⎥\n",
       "⎢ 2⋅ρ                 ⎥\n",
       "⎢                     ⎥\n",
       "⎢ φ⋅x                 ⎥\n",
       "⎢ ───     0    -1   0 ⎥\n",
       "⎢ 2⋅ρ                 ⎥\n",
       "⎢                     ⎥\n",
       "⎣  0      0     0   -1⎦"
      ]
     },
     "metadata": {},
     "output_type": "display_data"
    },
    {
     "data": {
      "text/latex": [
       "Christoffel $\\Gamma_{\\alpha \\beta \\gamma}$ and $\\Gamma^{\\alpha}_{\\beta \\gamma}$"
      ],
      "text/plain": [
       "<IPython.core.display.Latex object>"
      ]
     },
     "metadata": {},
     "output_type": "display_data"
    },
    {
     "data": {
      "application/vnd.jupyter.widget-view+json": {
       "model_id": "81e0dff24f764eeca7bdbd6f637a1729",
       "version_major": 2,
       "version_minor": 0
      },
      "text/plain": [
       "  0%|          | 0/64 [00:00<?, ?it/s]"
      ]
     },
     "metadata": {},
     "output_type": "display_data"
    },
    {
     "data": {
      "text/latex": [
       "$\\displaystyle {\\Gamma}{}_{1}\\,{}_{0}\\,{}_{2}\\, = - \\frac{\\phi}{2 \\rho}$"
      ],
      "text/plain": [
       "<IPython.core.display.Math object>"
      ]
     },
     "metadata": {},
     "output_type": "display_data"
    },
    {
     "data": {
      "text/latex": [
       "$\\displaystyle {\\Gamma}{}_{1}\\,{}_{2}\\,{}_{0}\\, = - \\frac{\\phi}{2 \\rho}$"
      ],
      "text/plain": [
       "<IPython.core.display.Math object>"
      ]
     },
     "metadata": {},
     "output_type": "display_data"
    },
    {
     "data": {
      "text/latex": [
       "$\\displaystyle {\\Gamma}{}_{2}\\,{}_{0}\\,{}_{1}\\, = \\frac{\\phi}{2 \\rho}$"
      ],
      "text/plain": [
       "<IPython.core.display.Math object>"
      ]
     },
     "metadata": {},
     "output_type": "display_data"
    },
    {
     "data": {
      "text/latex": [
       "$\\displaystyle {\\Gamma}{}_{2}\\,{}_{1}\\,{}_{0}\\, = \\frac{\\phi}{2 \\rho}$"
      ],
      "text/plain": [
       "<IPython.core.display.Math object>"
      ]
     },
     "metadata": {},
     "output_type": "display_data"
    },
    {
     "data": {
      "text/latex": [
       "$\\displaystyle {\\Gamma}{}^{0}\\,{}_{0}\\,{}_{1}\\, = \\frac{\\phi^{2} x}{\\phi^{2} x^{2} + \\phi^{2} y^{2} + 4 \\rho^{2}}$"
      ],
      "text/plain": [
       "<IPython.core.display.Math object>"
      ]
     },
     "metadata": {},
     "output_type": "display_data"
    },
    {
     "data": {
      "text/latex": [
       "$\\displaystyle {\\Gamma}{}^{0}\\,{}_{0}\\,{}_{2}\\, = \\frac{\\phi^{2} y}{\\phi^{2} x^{2} + \\phi^{2} y^{2} + 4 \\rho^{2}}$"
      ],
      "text/plain": [
       "<IPython.core.display.Math object>"
      ]
     },
     "metadata": {},
     "output_type": "display_data"
    },
    {
     "data": {
      "text/latex": [
       "$\\displaystyle {\\Gamma}{}^{0}\\,{}_{1}\\,{}_{0}\\, = \\frac{\\phi^{2} x}{\\phi^{2} x^{2} + \\phi^{2} y^{2} + 4 \\rho^{2}}$"
      ],
      "text/plain": [
       "<IPython.core.display.Math object>"
      ]
     },
     "metadata": {},
     "output_type": "display_data"
    },
    {
     "data": {
      "text/latex": [
       "$\\displaystyle {\\Gamma}{}^{0}\\,{}_{2}\\,{}_{0}\\, = \\frac{\\phi^{2} y}{\\phi^{2} x^{2} + \\phi^{2} y^{2} + 4 \\rho^{2}}$"
      ],
      "text/plain": [
       "<IPython.core.display.Math object>"
      ]
     },
     "metadata": {},
     "output_type": "display_data"
    },
    {
     "data": {
      "text/latex": [
       "$\\displaystyle {\\Gamma}{}^{1}\\,{}_{0}\\,{}_{1}\\, = - \\frac{\\phi^{3} x y}{2 \\rho \\left(\\phi^{2} x^{2} + \\phi^{2} y^{2} + 4 \\rho^{2}\\right)}$"
      ],
      "text/plain": [
       "<IPython.core.display.Math object>"
      ]
     },
     "metadata": {},
     "output_type": "display_data"
    },
    {
     "data": {
      "text/latex": [
       "$\\displaystyle {\\Gamma}{}^{1}\\,{}_{0}\\,{}_{2}\\, = \\frac{\\phi \\left(\\phi^{2} x^{2} + 4 \\rho^{2}\\right)}{2 \\rho \\left(\\phi^{2} x^{2} + \\phi^{2} y^{2} + 4 \\rho^{2}\\right)}$"
      ],
      "text/plain": [
       "<IPython.core.display.Math object>"
      ]
     },
     "metadata": {},
     "output_type": "display_data"
    },
    {
     "data": {
      "text/latex": [
       "$\\displaystyle {\\Gamma}{}^{1}\\,{}_{1}\\,{}_{0}\\, = - \\frac{\\phi^{3} x y}{2 \\rho \\left(\\phi^{2} x^{2} + \\phi^{2} y^{2} + 4 \\rho^{2}\\right)}$"
      ],
      "text/plain": [
       "<IPython.core.display.Math object>"
      ]
     },
     "metadata": {},
     "output_type": "display_data"
    },
    {
     "data": {
      "text/latex": [
       "$\\displaystyle {\\Gamma}{}^{1}\\,{}_{2}\\,{}_{0}\\, = \\frac{\\phi \\left(\\phi^{2} x^{2} + 4 \\rho^{2}\\right)}{2 \\rho \\left(\\phi^{2} x^{2} + \\phi^{2} y^{2} + 4 \\rho^{2}\\right)}$"
      ],
      "text/plain": [
       "<IPython.core.display.Math object>"
      ]
     },
     "metadata": {},
     "output_type": "display_data"
    },
    {
     "data": {
      "text/latex": [
       "$\\displaystyle {\\Gamma}{}^{2}\\,{}_{0}\\,{}_{1}\\, = - \\frac{\\phi \\left(\\phi^{2} y^{2} + 4 \\rho^{2}\\right)}{2 \\rho \\left(\\phi^{2} x^{2} + \\phi^{2} y^{2} + 4 \\rho^{2}\\right)}$"
      ],
      "text/plain": [
       "<IPython.core.display.Math object>"
      ]
     },
     "metadata": {},
     "output_type": "display_data"
    },
    {
     "data": {
      "text/latex": [
       "$\\displaystyle {\\Gamma}{}^{2}\\,{}_{0}\\,{}_{2}\\, = \\frac{\\phi^{3} x y}{2 \\rho \\left(\\phi^{2} x^{2} + \\phi^{2} y^{2} + 4 \\rho^{2}\\right)}$"
      ],
      "text/plain": [
       "<IPython.core.display.Math object>"
      ]
     },
     "metadata": {},
     "output_type": "display_data"
    },
    {
     "data": {
      "text/latex": [
       "$\\displaystyle {\\Gamma}{}^{2}\\,{}_{1}\\,{}_{0}\\, = - \\frac{\\phi \\left(\\phi^{2} y^{2} + 4 \\rho^{2}\\right)}{2 \\rho \\left(\\phi^{2} x^{2} + \\phi^{2} y^{2} + 4 \\rho^{2}\\right)}$"
      ],
      "text/plain": [
       "<IPython.core.display.Math object>"
      ]
     },
     "metadata": {},
     "output_type": "display_data"
    },
    {
     "data": {
      "text/latex": [
       "$\\displaystyle {\\Gamma}{}^{2}\\,{}_{2}\\,{}_{0}\\, = \\frac{\\phi^{3} x y}{2 \\rho \\left(\\phi^{2} x^{2} + \\phi^{2} y^{2} + 4 \\rho^{2}\\right)}$"
      ],
      "text/plain": [
       "<IPython.core.display.Math object>"
      ]
     },
     "metadata": {},
     "output_type": "display_data"
    },
    {
     "data": {
      "text/latex": [
       "Riemann Tensor $R^{\\alpha}_{\\beta \\gamma \\delta}$"
      ],
      "text/plain": [
       "<IPython.core.display.Latex object>"
      ]
     },
     "metadata": {},
     "output_type": "display_data"
    },
    {
     "data": {
      "application/vnd.jupyter.widget-view+json": {
       "model_id": "11b8191b71354525964f42ffdb7a9643",
       "version_major": 2,
       "version_minor": 0
      },
      "text/plain": [
       "  0%|          | 0/256 [00:00<?, ?it/s]"
      ]
     },
     "metadata": {},
     "output_type": "display_data"
    },
    {
     "data": {
      "text/latex": [
       "$\\displaystyle {R}{}^{0}\\,{}_{0}\\,{}_{0}\\,{}_{1}\\, = - \\frac{\\phi^{3} y}{2 \\rho \\left(\\phi^{2} x^{2} + \\phi^{2} y^{2} + 4 \\rho^{2}\\right)}$"
      ],
      "text/plain": [
       "<IPython.core.display.Math object>"
      ]
     },
     "metadata": {},
     "output_type": "display_data"
    },
    {
     "data": {
      "text/latex": [
       "$\\displaystyle {R}{}^{0}\\,{}_{0}\\,{}_{0}\\,{}_{2}\\, = \\frac{\\phi^{3} x}{2 \\rho \\left(\\phi^{2} x^{2} + \\phi^{2} y^{2} + 4 \\rho^{2}\\right)}$"
      ],
      "text/plain": [
       "<IPython.core.display.Math object>"
      ]
     },
     "metadata": {},
     "output_type": "display_data"
    },
    {
     "data": {
      "text/latex": [
       "$\\displaystyle {R}{}^{0}\\,{}_{0}\\,{}_{1}\\,{}_{0}\\, = \\frac{\\phi^{3} y}{2 \\rho \\left(\\phi^{2} x^{2} + \\phi^{2} y^{2} + 4 \\rho^{2}\\right)}$"
      ],
      "text/plain": [
       "<IPython.core.display.Math object>"
      ]
     },
     "metadata": {},
     "output_type": "display_data"
    },
    {
     "data": {
      "text/latex": [
       "$\\displaystyle {R}{}^{0}\\,{}_{0}\\,{}_{2}\\,{}_{0}\\, = - \\frac{\\phi^{3} x}{2 \\rho \\left(\\phi^{2} x^{2} + \\phi^{2} y^{2} + 4 \\rho^{2}\\right)}$"
      ],
      "text/plain": [
       "<IPython.core.display.Math object>"
      ]
     },
     "metadata": {},
     "output_type": "display_data"
    },
    {
     "data": {
      "text/latex": [
       "$\\displaystyle {R}{}^{0}\\,{}_{1}\\,{}_{0}\\,{}_{1}\\, = - \\frac{\\phi^{2} \\left(\\phi^{2} y^{2} + 4 \\rho^{2}\\right)}{\\left(\\phi^{2} x^{2} + \\phi^{2} y^{2} + 4 \\rho^{2}\\right)^{2}}$"
      ],
      "text/plain": [
       "<IPython.core.display.Math object>"
      ]
     },
     "metadata": {},
     "output_type": "display_data"
    },
    {
     "data": {
      "text/latex": [
       "$\\displaystyle {R}{}^{0}\\,{}_{1}\\,{}_{0}\\,{}_{2}\\, = \\frac{\\phi^{4} x y}{\\left(\\phi^{2} x^{2} + \\phi^{2} y^{2} + 4 \\rho^{2}\\right)^{2}}$"
      ],
      "text/plain": [
       "<IPython.core.display.Math object>"
      ]
     },
     "metadata": {},
     "output_type": "display_data"
    },
    {
     "data": {
      "text/latex": [
       "$\\displaystyle {R}{}^{0}\\,{}_{1}\\,{}_{1}\\,{}_{0}\\, = \\frac{\\phi^{2} \\left(\\phi^{2} y^{2} + 4 \\rho^{2}\\right)}{\\left(\\phi^{2} x^{2} + \\phi^{2} y^{2} + 4 \\rho^{2}\\right)^{2}}$"
      ],
      "text/plain": [
       "<IPython.core.display.Math object>"
      ]
     },
     "metadata": {},
     "output_type": "display_data"
    },
    {
     "data": {
      "text/latex": [
       "$\\displaystyle {R}{}^{0}\\,{}_{1}\\,{}_{2}\\,{}_{0}\\, = - \\frac{\\phi^{4} x y}{\\left(\\phi^{2} x^{2} + \\phi^{2} y^{2} + 4 \\rho^{2}\\right)^{2}}$"
      ],
      "text/plain": [
       "<IPython.core.display.Math object>"
      ]
     },
     "metadata": {},
     "output_type": "display_data"
    },
    {
     "data": {
      "text/latex": [
       "$\\displaystyle {R}{}^{0}\\,{}_{2}\\,{}_{0}\\,{}_{1}\\, = \\frac{\\phi^{4} x y}{\\left(\\phi^{2} x^{2} + \\phi^{2} y^{2} + 4 \\rho^{2}\\right)^{2}}$"
      ],
      "text/plain": [
       "<IPython.core.display.Math object>"
      ]
     },
     "metadata": {},
     "output_type": "display_data"
    },
    {
     "data": {
      "text/latex": [
       "$\\displaystyle {R}{}^{0}\\,{}_{2}\\,{}_{0}\\,{}_{2}\\, = - \\frac{\\phi^{2} \\left(\\phi^{2} x^{2} + 4 \\rho^{2}\\right)}{\\left(\\phi^{2} x^{2} + \\phi^{2} y^{2} + 4 \\rho^{2}\\right)^{2}}$"
      ],
      "text/plain": [
       "<IPython.core.display.Math object>"
      ]
     },
     "metadata": {},
     "output_type": "display_data"
    },
    {
     "data": {
      "text/latex": [
       "$\\displaystyle {R}{}^{0}\\,{}_{2}\\,{}_{1}\\,{}_{0}\\, = - \\frac{\\phi^{4} x y}{\\left(\\phi^{2} x^{2} + \\phi^{2} y^{2} + 4 \\rho^{2}\\right)^{2}}$"
      ],
      "text/plain": [
       "<IPython.core.display.Math object>"
      ]
     },
     "metadata": {},
     "output_type": "display_data"
    },
    {
     "data": {
      "text/latex": [
       "$\\displaystyle {R}{}^{0}\\,{}_{2}\\,{}_{2}\\,{}_{0}\\, = \\frac{\\phi^{2} \\left(\\phi^{2} x^{2} + 4 \\rho^{2}\\right)}{\\left(\\phi^{2} x^{2} + \\phi^{2} y^{2} + 4 \\rho^{2}\\right)^{2}}$"
      ],
      "text/plain": [
       "<IPython.core.display.Math object>"
      ]
     },
     "metadata": {},
     "output_type": "display_data"
    },
    {
     "data": {
      "text/latex": [
       "$\\displaystyle {R}{}^{1}\\,{}_{0}\\,{}_{0}\\,{}_{1}\\, = - \\frac{\\phi^{2}}{\\phi^{2} x^{2} + \\phi^{2} y^{2} + 4 \\rho^{2}}$"
      ],
      "text/plain": [
       "<IPython.core.display.Math object>"
      ]
     },
     "metadata": {},
     "output_type": "display_data"
    },
    {
     "data": {
      "text/latex": [
       "$\\displaystyle {R}{}^{1}\\,{}_{0}\\,{}_{1}\\,{}_{0}\\, = \\frac{\\phi^{2}}{\\phi^{2} x^{2} + \\phi^{2} y^{2} + 4 \\rho^{2}}$"
      ],
      "text/plain": [
       "<IPython.core.display.Math object>"
      ]
     },
     "metadata": {},
     "output_type": "display_data"
    },
    {
     "data": {
      "text/latex": [
       "$\\displaystyle {R}{}^{1}\\,{}_{1}\\,{}_{0}\\,{}_{1}\\, = \\frac{\\phi^{3} y \\left(\\phi^{2} y^{2} + 4 \\rho^{2}\\right)}{2 \\rho \\left(\\phi^{2} x^{2} + \\phi^{2} y^{2} + 4 \\rho^{2}\\right)^{2}}$"
      ],
      "text/plain": [
       "<IPython.core.display.Math object>"
      ]
     },
     "metadata": {},
     "output_type": "display_data"
    },
    {
     "data": {
      "text/latex": [
       "$\\displaystyle {R}{}^{1}\\,{}_{1}\\,{}_{0}\\,{}_{2}\\, = - \\frac{\\phi^{5} x y^{2}}{2 \\rho \\left(\\phi^{2} x^{2} + \\phi^{2} y^{2} + 4 \\rho^{2}\\right)^{2}}$"
      ],
      "text/plain": [
       "<IPython.core.display.Math object>"
      ]
     },
     "metadata": {},
     "output_type": "display_data"
    },
    {
     "data": {
      "text/latex": [
       "$\\displaystyle {R}{}^{1}\\,{}_{1}\\,{}_{1}\\,{}_{0}\\, = - \\frac{\\phi^{3} y \\left(\\phi^{2} y^{2} + 4 \\rho^{2}\\right)}{2 \\rho \\left(\\phi^{2} x^{2} + \\phi^{2} y^{2} + 4 \\rho^{2}\\right)^{2}}$"
      ],
      "text/plain": [
       "<IPython.core.display.Math object>"
      ]
     },
     "metadata": {},
     "output_type": "display_data"
    },
    {
     "data": {
      "text/latex": [
       "$\\displaystyle {R}{}^{1}\\,{}_{1}\\,{}_{2}\\,{}_{0}\\, = \\frac{\\phi^{5} x y^{2}}{2 \\rho \\left(\\phi^{2} x^{2} + \\phi^{2} y^{2} + 4 \\rho^{2}\\right)^{2}}$"
      ],
      "text/plain": [
       "<IPython.core.display.Math object>"
      ]
     },
     "metadata": {},
     "output_type": "display_data"
    },
    {
     "data": {
      "text/latex": [
       "$\\displaystyle {R}{}^{1}\\,{}_{2}\\,{}_{0}\\,{}_{1}\\, = - \\frac{\\phi^{5} x y^{2}}{2 \\rho \\left(\\phi^{2} x^{2} + \\phi^{2} y^{2} + 4 \\rho^{2}\\right)^{2}}$"
      ],
      "text/plain": [
       "<IPython.core.display.Math object>"
      ]
     },
     "metadata": {},
     "output_type": "display_data"
    },
    {
     "data": {
      "text/latex": [
       "$\\displaystyle {R}{}^{1}\\,{}_{2}\\,{}_{0}\\,{}_{2}\\, = \\frac{\\phi^{3} y \\left(\\phi^{2} x^{2} + 4 \\rho^{2}\\right)}{2 \\rho \\left(\\phi^{2} x^{2} + \\phi^{2} y^{2} + 4 \\rho^{2}\\right)^{2}}$"
      ],
      "text/plain": [
       "<IPython.core.display.Math object>"
      ]
     },
     "metadata": {},
     "output_type": "display_data"
    },
    {
     "data": {
      "text/latex": [
       "$\\displaystyle {R}{}^{1}\\,{}_{2}\\,{}_{1}\\,{}_{0}\\, = \\frac{\\phi^{5} x y^{2}}{2 \\rho \\left(\\phi^{2} x^{2} + \\phi^{2} y^{2} + 4 \\rho^{2}\\right)^{2}}$"
      ],
      "text/plain": [
       "<IPython.core.display.Math object>"
      ]
     },
     "metadata": {},
     "output_type": "display_data"
    },
    {
     "data": {
      "text/latex": [
       "$\\displaystyle {R}{}^{1}\\,{}_{2}\\,{}_{2}\\,{}_{0}\\, = - \\frac{\\phi^{3} y \\left(\\phi^{2} x^{2} + 4 \\rho^{2}\\right)}{2 \\rho \\left(\\phi^{2} x^{2} + \\phi^{2} y^{2} + 4 \\rho^{2}\\right)^{2}}$"
      ],
      "text/plain": [
       "<IPython.core.display.Math object>"
      ]
     },
     "metadata": {},
     "output_type": "display_data"
    },
    {
     "data": {
      "text/latex": [
       "$\\displaystyle {R}{}^{2}\\,{}_{0}\\,{}_{0}\\,{}_{2}\\, = - \\frac{\\phi^{2}}{\\phi^{2} x^{2} + \\phi^{2} y^{2} + 4 \\rho^{2}}$"
      ],
      "text/plain": [
       "<IPython.core.display.Math object>"
      ]
     },
     "metadata": {},
     "output_type": "display_data"
    },
    {
     "data": {
      "text/latex": [
       "$\\displaystyle {R}{}^{2}\\,{}_{0}\\,{}_{2}\\,{}_{0}\\, = \\frac{\\phi^{2}}{\\phi^{2} x^{2} + \\phi^{2} y^{2} + 4 \\rho^{2}}$"
      ],
      "text/plain": [
       "<IPython.core.display.Math object>"
      ]
     },
     "metadata": {},
     "output_type": "display_data"
    },
    {
     "data": {
      "text/latex": [
       "$\\displaystyle {R}{}^{2}\\,{}_{1}\\,{}_{0}\\,{}_{1}\\, = - \\frac{\\phi^{3} x \\left(\\phi^{2} y^{2} + 4 \\rho^{2}\\right)}{2 \\rho \\left(\\phi^{2} x^{2} + \\phi^{2} y^{2} + 4 \\rho^{2}\\right)^{2}}$"
      ],
      "text/plain": [
       "<IPython.core.display.Math object>"
      ]
     },
     "metadata": {},
     "output_type": "display_data"
    },
    {
     "data": {
      "text/latex": [
       "$\\displaystyle {R}{}^{2}\\,{}_{1}\\,{}_{0}\\,{}_{2}\\, = \\frac{\\phi^{5} x^{2} y}{2 \\rho \\left(\\phi^{2} x^{2} + \\phi^{2} y^{2} + 4 \\rho^{2}\\right)^{2}}$"
      ],
      "text/plain": [
       "<IPython.core.display.Math object>"
      ]
     },
     "metadata": {},
     "output_type": "display_data"
    },
    {
     "data": {
      "text/latex": [
       "$\\displaystyle {R}{}^{2}\\,{}_{1}\\,{}_{1}\\,{}_{0}\\, = \\frac{\\phi^{3} x \\left(\\phi^{2} y^{2} + 4 \\rho^{2}\\right)}{2 \\rho \\left(\\phi^{2} x^{2} + \\phi^{2} y^{2} + 4 \\rho^{2}\\right)^{2}}$"
      ],
      "text/plain": [
       "<IPython.core.display.Math object>"
      ]
     },
     "metadata": {},
     "output_type": "display_data"
    },
    {
     "data": {
      "text/latex": [
       "$\\displaystyle {R}{}^{2}\\,{}_{1}\\,{}_{2}\\,{}_{0}\\, = - \\frac{\\phi^{5} x^{2} y}{2 \\rho \\left(\\phi^{2} x^{2} + \\phi^{2} y^{2} + 4 \\rho^{2}\\right)^{2}}$"
      ],
      "text/plain": [
       "<IPython.core.display.Math object>"
      ]
     },
     "metadata": {},
     "output_type": "display_data"
    },
    {
     "data": {
      "text/latex": [
       "$\\displaystyle {R}{}^{2}\\,{}_{2}\\,{}_{0}\\,{}_{1}\\, = \\frac{\\phi^{5} x^{2} y}{2 \\rho \\left(\\phi^{2} x^{2} + \\phi^{2} y^{2} + 4 \\rho^{2}\\right)^{2}}$"
      ],
      "text/plain": [
       "<IPython.core.display.Math object>"
      ]
     },
     "metadata": {},
     "output_type": "display_data"
    },
    {
     "data": {
      "text/latex": [
       "$\\displaystyle {R}{}^{2}\\,{}_{2}\\,{}_{0}\\,{}_{2}\\, = - \\frac{\\phi^{3} x \\left(\\phi^{2} x^{2} + 4 \\rho^{2}\\right)}{2 \\rho \\left(\\phi^{2} x^{2} + \\phi^{2} y^{2} + 4 \\rho^{2}\\right)^{2}}$"
      ],
      "text/plain": [
       "<IPython.core.display.Math object>"
      ]
     },
     "metadata": {},
     "output_type": "display_data"
    },
    {
     "data": {
      "text/latex": [
       "$\\displaystyle {R}{}^{2}\\,{}_{2}\\,{}_{1}\\,{}_{0}\\, = - \\frac{\\phi^{5} x^{2} y}{2 \\rho \\left(\\phi^{2} x^{2} + \\phi^{2} y^{2} + 4 \\rho^{2}\\right)^{2}}$"
      ],
      "text/plain": [
       "<IPython.core.display.Math object>"
      ]
     },
     "metadata": {},
     "output_type": "display_data"
    },
    {
     "data": {
      "text/latex": [
       "$\\displaystyle {R}{}^{2}\\,{}_{2}\\,{}_{2}\\,{}_{0}\\, = \\frac{\\phi^{3} x \\left(\\phi^{2} x^{2} + 4 \\rho^{2}\\right)}{2 \\rho \\left(\\phi^{2} x^{2} + \\phi^{2} y^{2} + 4 \\rho^{2}\\right)^{2}}$"
      ],
      "text/plain": [
       "<IPython.core.display.Math object>"
      ]
     },
     "metadata": {},
     "output_type": "display_data"
    },
    {
     "data": {
      "text/latex": [
       "Ricci Tensor $R_{\\alpha \\beta}$"
      ],
      "text/plain": [
       "<IPython.core.display.Latex object>"
      ]
     },
     "metadata": {},
     "output_type": "display_data"
    },
    {
     "data": {
      "application/vnd.jupyter.widget-view+json": {
       "model_id": "d57b6fe16ec04a53909146267d1697ac",
       "version_major": 2,
       "version_minor": 0
      },
      "text/plain": [
       "  0%|          | 0/16 [00:00<?, ?it/s]"
      ]
     },
     "metadata": {},
     "output_type": "display_data"
    },
    {
     "data": {
      "text/latex": [
       "$\\displaystyle {R}{}_{0}\\,{}_{0}\\, = \\frac{2 \\phi^{2}}{\\phi^{2} x^{2} + \\phi^{2} y^{2} + 4 \\rho^{2}}$"
      ],
      "text/plain": [
       "<IPython.core.display.Math object>"
      ]
     },
     "metadata": {},
     "output_type": "display_data"
    },
    {
     "data": {
      "text/latex": [
       "$\\displaystyle {R}{}_{0}\\,{}_{1}\\, = - \\frac{\\phi^{3} y}{2 \\rho \\left(\\phi^{2} x^{2} + \\phi^{2} y^{2} + 4 \\rho^{2}\\right)}$"
      ],
      "text/plain": [
       "<IPython.core.display.Math object>"
      ]
     },
     "metadata": {},
     "output_type": "display_data"
    },
    {
     "data": {
      "text/latex": [
       "$\\displaystyle {R}{}_{0}\\,{}_{2}\\, = \\frac{\\phi^{3} x}{2 \\rho \\left(\\phi^{2} x^{2} + \\phi^{2} y^{2} + 4 \\rho^{2}\\right)}$"
      ],
      "text/plain": [
       "<IPython.core.display.Math object>"
      ]
     },
     "metadata": {},
     "output_type": "display_data"
    },
    {
     "data": {
      "text/latex": [
       "$\\displaystyle {R}{}_{1}\\,{}_{0}\\, = - \\frac{\\phi^{3} y}{2 \\rho \\left(\\phi^{2} x^{2} + \\phi^{2} y^{2} + 4 \\rho^{2}\\right)}$"
      ],
      "text/plain": [
       "<IPython.core.display.Math object>"
      ]
     },
     "metadata": {},
     "output_type": "display_data"
    },
    {
     "data": {
      "text/latex": [
       "$\\displaystyle {R}{}_{1}\\,{}_{1}\\, = - \\frac{\\phi^{2} \\left(\\phi^{2} y^{2} + 4 \\rho^{2}\\right)}{\\left(\\phi^{2} x^{2} + \\phi^{2} y^{2} + 4 \\rho^{2}\\right)^{2}}$"
      ],
      "text/plain": [
       "<IPython.core.display.Math object>"
      ]
     },
     "metadata": {},
     "output_type": "display_data"
    },
    {
     "data": {
      "text/latex": [
       "$\\displaystyle {R}{}_{1}\\,{}_{2}\\, = \\frac{\\phi^{4} x y}{\\left(\\phi^{2} x^{2} + \\phi^{2} y^{2} + 4 \\rho^{2}\\right)^{2}}$"
      ],
      "text/plain": [
       "<IPython.core.display.Math object>"
      ]
     },
     "metadata": {},
     "output_type": "display_data"
    },
    {
     "data": {
      "text/latex": [
       "$\\displaystyle {R}{}_{2}\\,{}_{0}\\, = \\frac{\\phi^{3} x}{2 \\rho \\left(\\phi^{2} x^{2} + \\phi^{2} y^{2} + 4 \\rho^{2}\\right)}$"
      ],
      "text/plain": [
       "<IPython.core.display.Math object>"
      ]
     },
     "metadata": {},
     "output_type": "display_data"
    },
    {
     "data": {
      "text/latex": [
       "$\\displaystyle {R}{}_{2}\\,{}_{1}\\, = \\frac{\\phi^{4} x y}{\\left(\\phi^{2} x^{2} + \\phi^{2} y^{2} + 4 \\rho^{2}\\right)^{2}}$"
      ],
      "text/plain": [
       "<IPython.core.display.Math object>"
      ]
     },
     "metadata": {},
     "output_type": "display_data"
    },
    {
     "data": {
      "text/latex": [
       "$\\displaystyle {R}{}_{2}\\,{}_{2}\\, = - \\frac{\\phi^{2} \\left(\\phi^{2} x^{2} + 4 \\rho^{2}\\right)}{\\left(\\phi^{2} x^{2} + \\phi^{2} y^{2} + 4 \\rho^{2}\\right)^{2}}$"
      ],
      "text/plain": [
       "<IPython.core.display.Math object>"
      ]
     },
     "metadata": {},
     "output_type": "display_data"
    },
    {
     "data": {
      "application/vnd.jupyter.widget-view+json": {
       "model_id": "0a5476e6689d4d50b392ab1ee6392723",
       "version_major": 2,
       "version_minor": 0
      },
      "text/plain": [
       "  0%|          | 0/16 [00:00<?, ?it/s]"
      ]
     },
     "metadata": {},
     "output_type": "display_data"
    },
    {
     "data": {
      "text/latex": [
       "Ricci Scalar $R$"
      ],
      "text/plain": [
       "<IPython.core.display.Latex object>"
      ]
     },
     "metadata": {},
     "output_type": "display_data"
    },
    {
     "data": {
      "text/latex": [
       "$\\displaystyle \\frac{2 \\phi^{2} \\left(\\phi^{2} x^{2} + \\phi^{2} y^{2} + 8 \\rho^{2}\\right)}{\\left(\\phi^{2} x^{2} + \\phi^{2} y^{2} + 4 \\rho^{2}\\right)^{2}}$"
      ],
      "text/plain": [
       "<IPython.core.display.Math object>"
      ]
     },
     "metadata": {},
     "output_type": "display_data"
    },
    {
     "data": {
      "text/latex": [
       "Einstein Tensor $G_{\\alpha \\beta}$"
      ],
      "text/plain": [
       "<IPython.core.display.Latex object>"
      ]
     },
     "metadata": {},
     "output_type": "display_data"
    },
    {
     "data": {
      "application/vnd.jupyter.widget-view+json": {
       "model_id": "acc81d799fea4b99853087a5ff2ab927",
       "version_major": 2,
       "version_minor": 0
      },
      "text/plain": [
       "  0%|          | 0/16 [00:00<?, ?it/s]"
      ]
     },
     "metadata": {},
     "output_type": "display_data"
    },
    {
     "data": {
      "text/latex": [
       "$\\displaystyle {G}{}_{0}\\,{}_{0}\\, = \\frac{\\phi^{4} \\left(x^{2} + y^{2}\\right)}{\\left(\\phi^{2} x^{2} + \\phi^{2} y^{2} + 4 \\rho^{2}\\right)^{2}}$"
      ],
      "text/plain": [
       "<IPython.core.display.Math object>"
      ]
     },
     "metadata": {},
     "output_type": "display_data"
    },
    {
     "data": {
      "text/latex": [
       "$\\displaystyle {G}{}_{0}\\,{}_{1}\\, = \\frac{2 \\phi^{3} \\rho y}{\\left(\\phi^{2} x^{2} + \\phi^{2} y^{2} + 4 \\rho^{2}\\right)^{2}}$"
      ],
      "text/plain": [
       "<IPython.core.display.Math object>"
      ]
     },
     "metadata": {},
     "output_type": "display_data"
    },
    {
     "data": {
      "text/latex": [
       "$\\displaystyle {G}{}_{0}\\,{}_{2}\\, = - \\frac{2 \\phi^{3} \\rho x}{\\left(\\phi^{2} x^{2} + \\phi^{2} y^{2} + 4 \\rho^{2}\\right)^{2}}$"
      ],
      "text/plain": [
       "<IPython.core.display.Math object>"
      ]
     },
     "metadata": {},
     "output_type": "display_data"
    },
    {
     "data": {
      "text/latex": [
       "$\\displaystyle {G}{}_{1}\\,{}_{0}\\, = \\frac{2 \\phi^{3} \\rho y}{\\left(\\phi^{2} x^{2} + \\phi^{2} y^{2} + 4 \\rho^{2}\\right)^{2}}$"
      ],
      "text/plain": [
       "<IPython.core.display.Math object>"
      ]
     },
     "metadata": {},
     "output_type": "display_data"
    },
    {
     "data": {
      "text/latex": [
       "$\\displaystyle {G}{}_{1}\\,{}_{1}\\, = \\frac{\\phi^{2} \\left(\\phi^{2} x^{2} + 4 \\rho^{2}\\right)}{\\left(\\phi^{2} x^{2} + \\phi^{2} y^{2} + 4 \\rho^{2}\\right)^{2}}$"
      ],
      "text/plain": [
       "<IPython.core.display.Math object>"
      ]
     },
     "metadata": {},
     "output_type": "display_data"
    },
    {
     "data": {
      "text/latex": [
       "$\\displaystyle {G}{}_{1}\\,{}_{2}\\, = \\frac{\\phi^{4} x y}{\\left(\\phi^{2} x^{2} + \\phi^{2} y^{2} + 4 \\rho^{2}\\right)^{2}}$"
      ],
      "text/plain": [
       "<IPython.core.display.Math object>"
      ]
     },
     "metadata": {},
     "output_type": "display_data"
    },
    {
     "data": {
      "text/latex": [
       "$\\displaystyle {G}{}_{2}\\,{}_{0}\\, = - \\frac{2 \\phi^{3} \\rho x}{\\left(\\phi^{2} x^{2} + \\phi^{2} y^{2} + 4 \\rho^{2}\\right)^{2}}$"
      ],
      "text/plain": [
       "<IPython.core.display.Math object>"
      ]
     },
     "metadata": {},
     "output_type": "display_data"
    },
    {
     "data": {
      "text/latex": [
       "$\\displaystyle {G}{}_{2}\\,{}_{1}\\, = \\frac{\\phi^{4} x y}{\\left(\\phi^{2} x^{2} + \\phi^{2} y^{2} + 4 \\rho^{2}\\right)^{2}}$"
      ],
      "text/plain": [
       "<IPython.core.display.Math object>"
      ]
     },
     "metadata": {},
     "output_type": "display_data"
    },
    {
     "data": {
      "text/latex": [
       "$\\displaystyle {G}{}_{2}\\,{}_{2}\\, = \\frac{\\phi^{2} \\left(\\phi^{2} y^{2} + 4 \\rho^{2}\\right)}{\\left(\\phi^{2} x^{2} + \\phi^{2} y^{2} + 4 \\rho^{2}\\right)^{2}}$"
      ],
      "text/plain": [
       "<IPython.core.display.Math object>"
      ]
     },
     "metadata": {},
     "output_type": "display_data"
    },
    {
     "data": {
      "text/latex": [
       "$\\displaystyle {G}{}_{3}\\,{}_{3}\\, = \\frac{\\phi^{2} \\left(\\phi^{2} x^{2} + \\phi^{2} y^{2} + 8 \\rho^{2}\\right)}{\\left(\\phi^{2} x^{2} + \\phi^{2} y^{2} + 4 \\rho^{2}\\right)^{2}}$"
      ],
      "text/plain": [
       "<IPython.core.display.Math object>"
      ]
     },
     "metadata": {},
     "output_type": "display_data"
    }
   ],
   "source": [
    "# Définition des coordonnées\n",
    "t, x, y, z = pt.coords(\"t,x,y,z\")\n",
    "# Définition des constantes \n",
    "phi, rho = pt.con(\"phi\", \"rho\")\n",
    "\n",
    "# Définition de la métrique \n",
    "ds = \"ds2 = dt**2 - dx**2 - dy**2 - dz**2 - (phi/rho)*y*dx*dt + (phi/rho)*x*dy*dt\"\n",
    "g = pt.metric(ds)\n",
    "\n",
    "# Symboles de Christoffel\n",
    "chstfl = pt.christoffel()\n",
    "chstfl.display()\n",
    "\n",
    "# Riemann's tensor\n",
    "R = pt.riemann()\n",
    "R.display('^,_,_,_')\n",
    "\n",
    "# Einstein's tensor\n",
    "ric = pt.ricci()\n",
    "ric.display('_,_', aslist=True)\n",
    "\n",
    "scalar = pt.riccis()\n",
    "pt.display(scalar)\n",
    "\n",
    "G = pt.einstein('^, _')\n",
    "G.display(aslist=True)"
   ]
  },
  {
   "cell_type": "markdown",
   "id": "9ab70b65-0411-4fc9-b36a-0191d0d57f14",
   "metadata": {},
   "source": [
    "Vérification avec EinsteinPy"
   ]
  },
  {
   "cell_type": "code",
   "execution_count": 22,
   "id": "21861ad8-b61d-4e9d-82b3-eff2a6e5cce3",
   "metadata": {},
   "outputs": [],
   "source": [
    "import sympy\n",
    "from einsteinpy.symbolic import MetricTensor, ChristoffelSymbols, RiemannCurvatureTensor, RicciTensor, EinsteinTensor"
   ]
  },
  {
   "cell_type": "code",
   "execution_count": 9,
   "id": "5b93bf84-7d2b-4a80-9ea9-7bc286a37f7c",
   "metadata": {},
   "outputs": [
    {
     "data": {
      "text/latex": [
       "$\\displaystyle \\left[\\begin{matrix}1 & 0 & 0 & 0\\\\- \\frac{\\phi y}{x^{2} + y^{2}} & -1 & 0 & 0\\\\\\frac{\\phi x}{x^{2} + y^{2}} & 0 & -1 & 0\\\\0 & 0 & 0 & -1\\end{matrix}\\right]$"
      ],
      "text/plain": [
       "[[1, 0, 0, 0], [-phi*y/(x**2 + y**2), -1, 0, 0], [phi*x/(x**2 + y**2), 0, -1, 0], [0, 0, 0, -1]]"
      ]
     },
     "execution_count": 9,
     "metadata": {},
     "output_type": "execute_result"
    }
   ],
   "source": [
    "t, x, y, z, phi = sympy.symbols('t x y z phi')\n",
    "r2 = x**2 + y**2\n",
    "metric = [[0 for i in range(4)] for i in range(4)]\n",
    "metric[0][0] = 1\n",
    "for i in range(1, 4):\n",
    "    metric[i][i] = -1\n",
    "metric[1][0] = -(phi * y)/r2\n",
    "metric[2][0] = (phi * x)/r2\n",
    "\n",
    "m_obj = MetricTensor(metric, (t, x, y, z))\n",
    "m_obj.tensor()"
   ]
  },
  {
   "cell_type": "code",
   "execution_count": 10,
   "id": "d6e25a52-1cf3-4023-8146-a8616ef5413e",
   "metadata": {},
   "outputs": [
    {
     "data": {
      "text/latex": [
       "$\\displaystyle \\left[\\begin{matrix}\\left[\\begin{matrix}0 & 0 & 0 & 0\\\\0 & 0 & 0 & 0\\\\0 & 0 & 0 & 0\\\\0 & 0 & 0 & 0\\end{matrix}\\right] & \\left[\\begin{matrix}0 & 0 & - \\frac{\\phi x^{2}}{\\left(x^{2} + y^{2}\\right)^{2}} - \\frac{\\phi y^{2}}{\\left(x^{2} + y^{2}\\right)^{2}} + \\frac{\\phi}{x^{2} + y^{2}} & 0\\\\0 & 0 & 0 & 0\\\\- \\frac{\\phi x^{2}}{\\left(x^{2} + y^{2}\\right)^{2}} - \\frac{\\phi y^{2}}{\\left(x^{2} + y^{2}\\right)^{2}} + \\frac{\\phi}{x^{2} + y^{2}} & 0 & 0 & 0\\\\0 & 0 & 0 & 0\\end{matrix}\\right] & \\left[\\begin{matrix}0 & \\frac{\\phi x^{2}}{\\left(x^{2} + y^{2}\\right)^{2}} + \\frac{\\phi y^{2}}{\\left(x^{2} + y^{2}\\right)^{2}} - \\frac{\\phi}{x^{2} + y^{2}} & 0 & 0\\\\\\frac{\\phi x^{2}}{\\left(x^{2} + y^{2}\\right)^{2}} + \\frac{\\phi y^{2}}{\\left(x^{2} + y^{2}\\right)^{2}} - \\frac{\\phi}{x^{2} + y^{2}} & 0 & 0 & 0\\\\0 & 0 & 0 & 0\\\\0 & 0 & 0 & 0\\end{matrix}\\right] & \\left[\\begin{matrix}0 & 0 & 0 & 0\\\\0 & 0 & 0 & 0\\\\0 & 0 & 0 & 0\\\\0 & 0 & 0 & 0\\end{matrix}\\right]\\end{matrix}\\right]$"
      ],
      "text/plain": [
       "[[[0, 0, 0, 0], [0, 0, 0, 0], [0, 0, 0, 0], [0, 0, 0, 0]], [[0, 0, -phi*x**2/(x**2 + y**2)**2 - phi*y**2/(x**2 + y**2)**2 + phi/(x**2 + y**2), 0], [0, 0, 0, 0], [-phi*x**2/(x**2 + y**2)**2 - phi*y**2/(x**2 + y**2)**2 + phi/(x**2 + y**2), 0, 0, 0], [0, 0, 0, 0]], [[0, phi*x**2/(x**2 + y**2)**2 + phi*y**2/(x**2 + y**2)**2 - phi/(x**2 + y**2), 0, 0], [phi*x**2/(x**2 + y**2)**2 + phi*y**2/(x**2 + y**2)**2 - phi/(x**2 + y**2), 0, 0, 0], [0, 0, 0, 0], [0, 0, 0, 0]], [[0, 0, 0, 0], [0, 0, 0, 0], [0, 0, 0, 0], [0, 0, 0, 0]]]"
      ]
     },
     "execution_count": 10,
     "metadata": {},
     "output_type": "execute_result"
    }
   ],
   "source": [
    "ch = ChristoffelSymbols.from_metric(m_obj)\n",
    "ch_tensor = ch.tensor()\n",
    "ch_tensor"
   ]
  },
  {
   "cell_type": "code",
   "execution_count": 14,
   "id": "9bb79743-df79-4da2-81f4-7ee571980a6d",
   "metadata": {},
   "outputs": [
    {
     "data": {
      "text/latex": [
       "$\\displaystyle - \\frac{\\phi x^{2}}{\\left(x^{2} + y^{2}\\right)^{2}} - \\frac{\\phi y^{2}}{\\left(x^{2} + y^{2}\\right)^{2}} + \\frac{\\phi}{x^{2} + y^{2}}$"
      ],
      "text/plain": [
       "-phi*x**2/(x**2 + y**2)**2 - phi*y**2/(x**2 + y**2)**2 + phi/(x**2 + y**2)"
      ]
     },
     "execution_count": 14,
     "metadata": {},
     "output_type": "execute_result"
    }
   ],
   "source": [
    "ch_tensor[1][2][0]"
   ]
  },
  {
   "cell_type": "code",
   "execution_count": 5,
   "id": "7698350b-8ff5-400e-91f4-d5c34fbf18f2",
   "metadata": {},
   "outputs": [
    {
     "data": {
      "text/latex": [
       "$\\displaystyle \\left[\\begin{matrix}\\left[\\begin{matrix}0 & 0 & 0 & 0\\\\0 & 0 & 0 & 0\\\\0 & 0 & 0 & 0\\\\0 & 0 & 0 & 0\\end{matrix}\\right] & \\left[\\begin{matrix}0 & 0 & 0 & 0\\\\0 & 0 & 0 & 0\\\\0 & 0 & 0 & 0\\\\0 & 0 & 0 & 0\\end{matrix}\\right] & \\left[\\begin{matrix}0 & 0 & 0 & 0\\\\0 & 0 & 0 & 0\\\\0 & 0 & 0 & 0\\\\0 & 0 & 0 & 0\\end{matrix}\\right] & \\left[\\begin{matrix}0 & 0 & 0 & 0\\\\0 & 0 & 0 & 0\\\\0 & 0 & 0 & 0\\\\0 & 0 & 0 & 0\\end{matrix}\\right]\\\\\\left[\\begin{matrix}0 & 0 & 0 & 0\\\\0 & 0 & 0 & 0\\\\0 & 0 & 0 & 0\\\\0 & 0 & 0 & 0\\end{matrix}\\right] & \\left[\\begin{matrix}0 & 0 & 0 & 0\\\\0 & 0 & 0 & 0\\\\0 & 0 & 0 & 0\\\\0 & 0 & 0 & 0\\end{matrix}\\right] & \\left[\\begin{matrix}0 & 0 & 0 & 0\\\\0 & 0 & 0 & 0\\\\0 & 0 & 0 & 0\\\\0 & 0 & 0 & 0\\end{matrix}\\right] & \\left[\\begin{matrix}0 & 0 & 0 & 0\\\\0 & 0 & 0 & 0\\\\0 & 0 & 0 & 0\\\\0 & 0 & 0 & 0\\end{matrix}\\right]\\\\\\left[\\begin{matrix}0 & 0 & 0 & 0\\\\0 & 0 & 0 & 0\\\\0 & 0 & 0 & 0\\\\0 & 0 & 0 & 0\\end{matrix}\\right] & \\left[\\begin{matrix}0 & 0 & 0 & 0\\\\0 & 0 & 0 & 0\\\\0 & 0 & 0 & 0\\\\0 & 0 & 0 & 0\\end{matrix}\\right] & \\left[\\begin{matrix}0 & 0 & 0 & 0\\\\0 & 0 & 0 & 0\\\\0 & 0 & 0 & 0\\\\0 & 0 & 0 & 0\\end{matrix}\\right] & \\left[\\begin{matrix}0 & 0 & 0 & 0\\\\0 & 0 & 0 & 0\\\\0 & 0 & 0 & 0\\\\0 & 0 & 0 & 0\\end{matrix}\\right]\\\\\\left[\\begin{matrix}0 & 0 & 0 & 0\\\\0 & 0 & 0 & 0\\\\0 & 0 & 0 & 0\\\\0 & 0 & 0 & 0\\end{matrix}\\right] & \\left[\\begin{matrix}0 & 0 & 0 & 0\\\\0 & 0 & 0 & 0\\\\0 & 0 & 0 & 0\\\\0 & 0 & 0 & 0\\end{matrix}\\right] & \\left[\\begin{matrix}0 & 0 & 0 & 0\\\\0 & 0 & 0 & 0\\\\0 & 0 & 0 & 0\\\\0 & 0 & 0 & 0\\end{matrix}\\right] & \\left[\\begin{matrix}0 & 0 & 0 & 0\\\\0 & 0 & 0 & 0\\\\0 & 0 & 0 & 0\\\\0 & 0 & 0 & 0\\end{matrix}\\right]\\end{matrix}\\right]$"
      ],
      "text/plain": [
       "[[[[0, 0, 0, 0], [0, 0, 0, 0], [0, 0, 0, 0], [0, 0, 0, 0]], [[0, 0, 0, 0], [0, 0, 0, 0], [0, 0, 0, 0], [0, 0, 0, 0]], [[0, 0, 0, 0], [0, 0, 0, 0], [0, 0, 0, 0], [0, 0, 0, 0]], [[0, 0, 0, 0], [0, 0, 0, 0], [0, 0, 0, 0], [0, 0, 0, 0]]], [[[0, 0, 0, 0], [0, 0, 0, 0], [0, 0, 0, 0], [0, 0, 0, 0]], [[0, 0, 0, 0], [0, 0, 0, 0], [0, 0, 0, 0], [0, 0, 0, 0]], [[0, 0, 0, 0], [0, 0, 0, 0], [0, 0, 0, 0], [0, 0, 0, 0]], [[0, 0, 0, 0], [0, 0, 0, 0], [0, 0, 0, 0], [0, 0, 0, 0]]], [[[0, 0, 0, 0], [0, 0, 0, 0], [0, 0, 0, 0], [0, 0, 0, 0]], [[0, 0, 0, 0], [0, 0, 0, 0], [0, 0, 0, 0], [0, 0, 0, 0]], [[0, 0, 0, 0], [0, 0, 0, 0], [0, 0, 0, 0], [0, 0, 0, 0]], [[0, 0, 0, 0], [0, 0, 0, 0], [0, 0, 0, 0], [0, 0, 0, 0]]], [[[0, 0, 0, 0], [0, 0, 0, 0], [0, 0, 0, 0], [0, 0, 0, 0]], [[0, 0, 0, 0], [0, 0, 0, 0], [0, 0, 0, 0], [0, 0, 0, 0]], [[0, 0, 0, 0], [0, 0, 0, 0], [0, 0, 0, 0], [0, 0, 0, 0]], [[0, 0, 0, 0], [0, 0, 0, 0], [0, 0, 0, 0], [0, 0, 0, 0]]]]"
      ]
     },
     "execution_count": 5,
     "metadata": {},
     "output_type": "execute_result"
    }
   ],
   "source": [
    "rm1 = RiemannCurvatureTensor.from_christoffels(ch)\n",
    "rm1.tensor()"
   ]
  },
  {
   "cell_type": "markdown",
   "id": "dd7f3d77-a85d-4251-8f39-ec875a8a529a",
   "metadata": {},
   "source": [
    "## 2.2 - Source métrique potentiel vecteur"
   ]
  },
  {
   "cell_type": "code",
   "execution_count": 16,
   "id": "304872f3-7ea2-4242-a082-27dd32cf650f",
   "metadata": {},
   "outputs": [
    {
     "data": {
      "text/latex": [
       "$\\displaystyle \\left[\\begin{matrix}1 & 0 & 0 & 0\\\\- \\frac{\\phi y \\sin^{2}{\\left(\\frac{\\pi \\left(x^{2} + y^{2}\\right)^{0.5}}{2 a} \\right)}}{x^{2} + y^{2}} & -1 & 0 & 0\\\\\\frac{\\phi x \\sin^{2}{\\left(\\frac{\\pi \\left(x^{2} + y^{2}\\right)^{0.5}}{2 a} \\right)}}{x^{2} + y^{2}} & 0 & -1 & 0\\\\0 & 0 & 0 & -1\\end{matrix}\\right]$"
      ],
      "text/plain": [
       "[[1, 0, 0, 0], [-phi*y*sin(pi*(x**2 + y**2)**0.5/(2*a))**2/(x**2 + y**2), -1, 0, 0], [phi*x*sin(pi*(x**2 + y**2)**0.5/(2*a))**2/(x**2 + y**2), 0, -1, 0], [0, 0, 0, -1]]"
      ]
     },
     "execution_count": 16,
     "metadata": {},
     "output_type": "execute_result"
    }
   ],
   "source": [
    "t, x, y, z, phi, a = sympy.symbols('t x y z phi a')\n",
    "r2 = x**2 + y**2\n",
    "r = r2**(1/2)\n",
    "metric = [[0 for i in range(4)] for i in range(4)]\n",
    "metric[0][0] = 1\n",
    "for i in range(1, 4):\n",
    "    metric[i][i] = -1\n",
    "metric[1][0] = -(phi * sympy.sin(sympy.pi*r/(2*a))**2 * y)/r2\n",
    "metric[2][0] = (phi * sympy.sin(sympy.pi*r/(2*a))**2 * x)/r2\n",
    "\n",
    "m_obj = MetricTensor(metric, (t, x, y, z))\n",
    "m_obj.tensor()"
   ]
  },
  {
   "cell_type": "code",
   "execution_count": 18,
   "id": "53d36bf5-85e0-46b9-aff6-ea56bda1e012",
   "metadata": {},
   "outputs": [
    {
     "data": {
      "text/latex": [
       "$\\displaystyle \\left[\\begin{matrix}\\left[\\begin{matrix}0 & 0 & 0 & 0\\\\0 & 0 & 0 & 0\\\\0 & 0 & 0 & 0\\\\0 & 0 & 0 & 0\\end{matrix}\\right] & \\left[\\begin{matrix}0 & 0 & \\frac{0.25 \\pi \\phi \\sin{\\left(\\frac{\\pi \\left(x^{2} + y^{2}\\right)^{0.5}}{a} \\right)}}{a \\left(x^{2} + y^{2}\\right)^{0.5}} & 0\\\\0 & 0 & 0 & 0\\\\\\frac{0.25 \\pi \\phi \\sin{\\left(\\frac{\\pi \\left(x^{2} + y^{2}\\right)^{0.5}}{a} \\right)}}{a \\left(x^{2} + y^{2}\\right)^{0.5}} & 0 & 0 & 0\\\\0 & 0 & 0 & 0\\end{matrix}\\right] & \\left[\\begin{matrix}0 & - \\frac{0.25 \\pi \\phi \\sin{\\left(\\frac{\\pi \\left(x^{2} + y^{2}\\right)^{0.5}}{a} \\right)}}{a \\left(x^{2} + y^{2}\\right)^{0.5}} & 0 & 0\\\\- \\frac{0.25 \\pi \\phi \\sin{\\left(\\frac{\\pi \\left(x^{2} + y^{2}\\right)^{0.5}}{a} \\right)}}{a \\left(x^{2} + y^{2}\\right)^{0.5}} & 0 & 0 & 0\\\\0 & 0 & 0 & 0\\\\0 & 0 & 0 & 0\\end{matrix}\\right] & \\left[\\begin{matrix}0 & 0 & 0 & 0\\\\0 & 0 & 0 & 0\\\\0 & 0 & 0 & 0\\\\0 & 0 & 0 & 0\\end{matrix}\\right]\\end{matrix}\\right]$"
      ],
      "text/plain": [
       "[[[0, 0, 0, 0], [0, 0, 0, 0], [0, 0, 0, 0], [0, 0, 0, 0]], [[0, 0, 0.25*pi*phi*sin(pi*(x**2 + y**2)**0.5/a)/(a*(x**2 + y**2)**0.5), 0], [0, 0, 0, 0], [0.25*pi*phi*sin(pi*(x**2 + y**2)**0.5/a)/(a*(x**2 + y**2)**0.5), 0, 0, 0], [0, 0, 0, 0]], [[0, -0.25*pi*phi*sin(pi*(x**2 + y**2)**0.5/a)/(a*(x**2 + y**2)**0.5), 0, 0], [-0.25*pi*phi*sin(pi*(x**2 + y**2)**0.5/a)/(a*(x**2 + y**2)**0.5), 0, 0, 0], [0, 0, 0, 0], [0, 0, 0, 0]], [[0, 0, 0, 0], [0, 0, 0, 0], [0, 0, 0, 0], [0, 0, 0, 0]]]"
      ]
     },
     "execution_count": 18,
     "metadata": {},
     "output_type": "execute_result"
    }
   ],
   "source": [
    "ch = ChristoffelSymbols.from_metric(m_obj)\n",
    "ch_tensor = ch.tensor()\n",
    "ch_tensor.simplify()"
   ]
  },
  {
   "cell_type": "code",
   "execution_count": null,
   "id": "86df14b7-4fbe-4afb-9487-544334f8b274",
   "metadata": {},
   "outputs": [],
   "source": []
  }
 ],
 "metadata": {
  "interpreter": {
   "hash": "916dbcbb3f70747c44a77c7bcd40155683ae19c65e1c03b4aa3499c5328201f1"
  },
  "kernelspec": {
   "display_name": "Python 3",
   "language": "python",
   "name": "python3"
  },
  "language_info": {
   "codemirror_mode": {
    "name": "ipython",
    "version": 3
   },
   "file_extension": ".py",
   "mimetype": "text/x-python",
   "name": "python",
   "nbconvert_exporter": "python",
   "pygments_lexer": "ipython3",
   "version": "3.8.10"
  }
 },
 "nbformat": 4,
 "nbformat_minor": 5
}
