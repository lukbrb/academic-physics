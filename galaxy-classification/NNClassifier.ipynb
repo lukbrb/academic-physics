{
 "cells": [
  {
   "cell_type": "markdown",
   "id": "3921c27d-06ad-46fe-ae1c-735ea32d25bc",
   "metadata": {},
   "source": [
    "# Galaxy Classifier\n",
    "\n",
    "The aim of this project is to build a classifier that can infer the type of a galaxy given some input data. THese input data will be two fold:\n",
    "- We will first build typical machine learning classifiers, such as the KNN, SVM, MLP etc... which take as input some processed numeric data\n",
    "- In a second part of the project, we will create a convolutional deep neural network that will take as input a raw image of a galaxy\n",
    "\n",
    "## 1. Data exploration\n",
    "\n",
    "In this first section we use the Galaxy Zoo processed data, and explore its components and properties. The steps are strongly inspired by : https://thecleverprogrammer.com/2020/08/28/galaxy-classification-with-machine-learning/ . I use it now as a tutorial but will soon adapt it. \n",
    "\n",
    "The data originate from:\n",
    "\n",
    "- tables used here: https://data.galaxyzoo.org/\n",
    "- images and explanation : https://zenodo.org/record/3565489#.YBBFLPtKiUl\n",
    "- context of the Galaxy Zoo project: https://www.zooniverse.org/projects/zookeeper/galaxy-zoo/about/results"
   ]
  },
  {
   "cell_type": "code",
   "execution_count": 16,
   "id": "92df604f-4f4d-403b-95c0-be4752d0870e",
   "metadata": {},
   "outputs": [],
   "source": [
    "import pandas as pd\n",
    "import numpy as np\n",
    "import matplotlib.pyplot as plt\n",
    "import seaborn as sns\n",
    "from sklearn.model_selection import train_test_split\n",
    "from sklearn.preprocessing import MinMaxScaler"
   ]
  },
  {
   "cell_type": "code",
   "execution_count": 12,
   "id": "232482b3-12eb-4e4f-a12e-3b98692646ab",
   "metadata": {},
   "outputs": [
    {
     "data": {
      "text/html": [
       "<div>\n",
       "<style scoped>\n",
       "    .dataframe tbody tr th:only-of-type {\n",
       "        vertical-align: middle;\n",
       "    }\n",
       "\n",
       "    .dataframe tbody tr th {\n",
       "        vertical-align: top;\n",
       "    }\n",
       "\n",
       "    .dataframe thead th {\n",
       "        text-align: right;\n",
       "    }\n",
       "</style>\n",
       "<table border=\"1\" class=\"dataframe\">\n",
       "  <thead>\n",
       "    <tr style=\"text-align: right;\">\n",
       "      <th></th>\n",
       "      <th>OBJID</th>\n",
       "      <th>RA</th>\n",
       "      <th>DEC</th>\n",
       "      <th>NVOTE</th>\n",
       "      <th>P_EL</th>\n",
       "      <th>P_CW</th>\n",
       "      <th>P_ACW</th>\n",
       "      <th>P_EDGE</th>\n",
       "      <th>P_DK</th>\n",
       "      <th>P_MG</th>\n",
       "      <th>P_CS</th>\n",
       "      <th>P_EL_DEBIASED</th>\n",
       "      <th>P_CS_DEBIASED</th>\n",
       "      <th>SPIRAL</th>\n",
       "      <th>ELLIPTICAL</th>\n",
       "      <th>UNCERTAIN</th>\n",
       "    </tr>\n",
       "  </thead>\n",
       "  <tbody>\n",
       "    <tr>\n",
       "      <th>0</th>\n",
       "      <td>587727178986356823</td>\n",
       "      <td>00:00:00.41</td>\n",
       "      <td>-10:22:25.7</td>\n",
       "      <td>59</td>\n",
       "      <td>0.610</td>\n",
       "      <td>0.034</td>\n",
       "      <td>0.000</td>\n",
       "      <td>0.153</td>\n",
       "      <td>0.153</td>\n",
       "      <td>0.051</td>\n",
       "      <td>0.186</td>\n",
       "      <td>0.610</td>\n",
       "      <td>0.186</td>\n",
       "      <td>0</td>\n",
       "      <td>0</td>\n",
       "      <td>1</td>\n",
       "    </tr>\n",
       "    <tr>\n",
       "      <th>1</th>\n",
       "      <td>587727227300741210</td>\n",
       "      <td>00:00:00.74</td>\n",
       "      <td>-09:13:20.2</td>\n",
       "      <td>18</td>\n",
       "      <td>0.611</td>\n",
       "      <td>0.000</td>\n",
       "      <td>0.167</td>\n",
       "      <td>0.222</td>\n",
       "      <td>0.000</td>\n",
       "      <td>0.000</td>\n",
       "      <td>0.389</td>\n",
       "      <td>0.203</td>\n",
       "      <td>0.797</td>\n",
       "      <td>1</td>\n",
       "      <td>0</td>\n",
       "      <td>0</td>\n",
       "    </tr>\n",
       "    <tr>\n",
       "      <th>2</th>\n",
       "      <td>587727225153257596</td>\n",
       "      <td>00:00:01.03</td>\n",
       "      <td>-10:56:48.0</td>\n",
       "      <td>68</td>\n",
       "      <td>0.735</td>\n",
       "      <td>0.029</td>\n",
       "      <td>0.000</td>\n",
       "      <td>0.147</td>\n",
       "      <td>0.074</td>\n",
       "      <td>0.015</td>\n",
       "      <td>0.176</td>\n",
       "      <td>0.432</td>\n",
       "      <td>0.428</td>\n",
       "      <td>0</td>\n",
       "      <td>0</td>\n",
       "      <td>1</td>\n",
       "    </tr>\n",
       "    <tr>\n",
       "      <th>3</th>\n",
       "      <td>587730774962536596</td>\n",
       "      <td>00:00:01.38</td>\n",
       "      <td>+15:30:35.3</td>\n",
       "      <td>52</td>\n",
       "      <td>0.885</td>\n",
       "      <td>0.019</td>\n",
       "      <td>0.000</td>\n",
       "      <td>0.058</td>\n",
       "      <td>0.019</td>\n",
       "      <td>0.019</td>\n",
       "      <td>0.077</td>\n",
       "      <td>0.885</td>\n",
       "      <td>0.077</td>\n",
       "      <td>0</td>\n",
       "      <td>1</td>\n",
       "      <td>0</td>\n",
       "    </tr>\n",
       "    <tr>\n",
       "      <th>4</th>\n",
       "      <td>587731186203885750</td>\n",
       "      <td>00:00:01.55</td>\n",
       "      <td>-00:05:33.3</td>\n",
       "      <td>59</td>\n",
       "      <td>0.712</td>\n",
       "      <td>0.000</td>\n",
       "      <td>0.000</td>\n",
       "      <td>0.220</td>\n",
       "      <td>0.068</td>\n",
       "      <td>0.000</td>\n",
       "      <td>0.220</td>\n",
       "      <td>0.640</td>\n",
       "      <td>0.290</td>\n",
       "      <td>0</td>\n",
       "      <td>0</td>\n",
       "      <td>1</td>\n",
       "    </tr>\n",
       "  </tbody>\n",
       "</table>\n",
       "</div>"
      ],
      "text/plain": [
       "                OBJID           RA          DEC  NVOTE   P_EL   P_CW  P_ACW  \\\n",
       "0  587727178986356823  00:00:00.41  -10:22:25.7     59  0.610  0.034  0.000   \n",
       "1  587727227300741210  00:00:00.74  -09:13:20.2     18  0.611  0.000  0.167   \n",
       "2  587727225153257596  00:00:01.03  -10:56:48.0     68  0.735  0.029  0.000   \n",
       "3  587730774962536596  00:00:01.38  +15:30:35.3     52  0.885  0.019  0.000   \n",
       "4  587731186203885750  00:00:01.55  -00:05:33.3     59  0.712  0.000  0.000   \n",
       "\n",
       "   P_EDGE   P_DK   P_MG   P_CS  P_EL_DEBIASED  P_CS_DEBIASED  SPIRAL  \\\n",
       "0   0.153  0.153  0.051  0.186          0.610          0.186       0   \n",
       "1   0.222  0.000  0.000  0.389          0.203          0.797       1   \n",
       "2   0.147  0.074  0.015  0.176          0.432          0.428       0   \n",
       "3   0.058  0.019  0.019  0.077          0.885          0.077       0   \n",
       "4   0.220  0.068  0.000  0.220          0.640          0.290       0   \n",
       "\n",
       "   ELLIPTICAL  UNCERTAIN  \n",
       "0           0          1  \n",
       "1           0          0  \n",
       "2           0          1  \n",
       "3           1          0  \n",
       "4           0          1  "
      ]
     },
     "execution_count": 12,
     "metadata": {},
     "output_type": "execute_result"
    }
   ],
   "source": [
    "df = pd.read_csv('data/GalaxyZoo1_DR_table2.csv')\n",
    "df.head()"
   ]
  },
  {
   "cell_type": "markdown",
   "id": "406b70cf-ed81-4eef-b85b-41f139195eb1",
   "metadata": {},
   "source": [
    "**Selection of features**:  \n",
    "The first column is a unique identifier which cannot be a feature for our model, and the second and third columns are the absolute positions of galaxies which do not correlate with our classes/targets, so we can remove them all:\n",
    "\n",
    "<font color=\"red\"> TODO: Ajouter une description de chacun des paramètres</font>"
   ]
  },
  {
   "cell_type": "code",
   "execution_count": 13,
   "id": "54dc71bd-44da-4b3b-a001-34f619e7d171",
   "metadata": {},
   "outputs": [],
   "source": [
    "data = df.drop(['OBJID','RA','DEC'], axis=1)"
   ]
  },
  {
   "cell_type": "markdown",
   "id": "ea2d3520-7421-4647-9943-cab8ae853a51",
   "metadata": {},
   "source": [
    "As this is a Galaxy classification model, we have to check the class imbalance in a dataset where we perform classification task, even though its class binary imbalance may have a major effect in the phase training, and ultimately on precision. To plot the value_counts for three-class columns, we can do it like the code below:"
   ]
  },
  {
   "cell_type": "code",
   "execution_count": 14,
   "id": "c9e055d1-084d-4402-aa5a-e7d7d1652429",
   "metadata": {},
   "outputs": [
    {
     "data": {
      "image/png": "[encoded data removed]",
      "text/plain": [
       "<Figure size 1000x700 with 1 Axes>"
      ]
     },
     "metadata": {},
     "output_type": "display_data"
    }
   ],
   "source": [
    "plt.figure(figsize=(10,7))\n",
    "plt.title('Count plot for Galaxy types ')\n",
    "countplt = data[['SPIRAL','ELLIPTICAL','UNCERTAIN']]\n",
    "sns.countplot(x=\"variable\", hue='value', data=pd.melt(countplt))\n",
    "plt.xlabel('Classes')\n",
    "plt.show()"
   ]
  },
  {
   "cell_type": "markdown",
   "id": "0ca80a19-9699-4c7a-8b45-39c5ab3610cd",
   "metadata": {},
   "source": [
    "## Splitting the data\n",
    "\n",
    "For any machine learning model that learns from data, this is a conventional method of dividing the original data into training sets and test sets, where the allocation percentages are 80% training set and 20% test set. The data set at least should have 1000 data points to avoid overfitting and to simply increase the training period of any model. So now let’s split the data into training and test sets:"
   ]
  },
  {
   "cell_type": "code",
   "execution_count": 19,
   "id": "234b3733-018c-44fa-aac9-4330709e1eb3",
   "metadata": {},
   "outputs": [],
   "source": [
    "X = data.drop(['SPIRAL','ELLIPTICAL','UNCERTAIN'],axis=1).values  # We get rid of the labels\n",
    "y = data[['SPIRAL','ELLIPTICAL','UNCERTAIN']].values # We select the labels only\n",
    "\n",
    "X_train, X_test, y_train, y_test = train_test_split(X, y, test_size=0.2, random_state=101)\n",
    "\n",
    "# normalize the data\n",
    "scaler = MinMaxScaler()\n",
    "X_train = scaler.fit_transform(X_train)\n",
    "X_test = scaler.transform(X_test)"
   ]
  },
  {
   "cell_type": "markdown",
   "id": "fa0a0dc2-50c6-4e53-af5e-9aba365eb04c",
   "metadata": {},
   "source": [
    "## Building Neural Networks for Galaxy Classification Model\n",
    "\n",
    "Sequential, in Keras, allows us to build the Multilayer Perceptron model from scratch. We can add each layer with a unit number as a parameter of the Dense function where each unit number implies that many densely connected neurons. Now let’s build neural networks using TensorFlow and Keras:"
   ]
  },
  {
   "cell_type": "code",
   "execution_count": 20,
   "id": "fdd012a8-27be-4b83-baa6-78227eb9be30",
   "metadata": {},
   "outputs": [],
   "source": [
    "from tensorflow.keras.models import Sequential\n",
    "from tensorflow.keras.layers import Dense "
   ]
  },
  {
   "cell_type": "code",
   "execution_count": 21,
   "id": "aaa94d77-76be-45d4-a942-572627e62f45",
   "metadata": {},
   "outputs": [],
   "source": [
    "model = Sequential()\n",
    "\n",
    "model.add(Dense(10, activation='relu'))  # A Dense layer is a fully connected layer\n",
    "model.add(Dense(5, activation='relu'))\n",
    "\n",
    "model.add(Dense(3, activation = 'softmax'))\n",
    "\n",
    "model.compile(optimizer='adam', loss='categorical_crossentropy', metrics=['accuracy'])  # TODO: Expliquer choix de chaque paramètre"
   ]
  },
  {
   "cell_type": "code",
   "execution_count": 22,
   "id": "6c9d0532-6f6c-4786-bc8f-f2d817aa2d49",
   "metadata": {},
   "outputs": [
    {
     "name": "stdout",
     "output_type": "stream",
     "text": [
      "CPU times: user 4 µs, sys: 4 µs, total: 8 µs\n",
      "Wall time: 15.7 µs\n",
      "Epoch 1/20\n"
     ]
    },
    {
     "name": "stderr",
     "output_type": "stream",
     "text": [
      "2023-03-16 12:12:32.698938: W tensorflow/core/platform/profile_utils/cpu_utils.cc:128] Failed to get CPU frequency: 0 Hz\n"
     ]
    },
    {
     "name": "stdout",
     "output_type": "stream",
     "text": [
      "16699/16699 [==============================] - 5s 309us/step - loss: 0.2843 - accuracy: 0.8765\n",
      "Epoch 2/20\n",
      "16699/16699 [==============================] - 5s 308us/step - loss: 0.2508 - accuracy: 0.8907\n",
      "Epoch 3/20\n",
      "16699/16699 [==============================] - 5s 309us/step - loss: 0.2477 - accuracy: 0.8933\n",
      "Epoch 4/20\n",
      "16699/16699 [==============================] - 5s 310us/step - loss: 0.2459 - accuracy: 0.8941\n",
      "Epoch 5/20\n",
      "16699/16699 [==============================] - 5s 310us/step - loss: 0.2433 - accuracy: 0.8955\n",
      "Epoch 6/20\n",
      "16699/16699 [==============================] - 5s 305us/step - loss: 0.2395 - accuracy: 0.8977\n",
      "Epoch 7/20\n",
      "16699/16699 [==============================] - 5s 305us/step - loss: 0.2365 - accuracy: 0.8984\n",
      "Epoch 8/20\n",
      "16699/16699 [==============================] - 5s 307us/step - loss: 0.2343 - accuracy: 0.8984\n",
      "Epoch 9/20\n",
      "16699/16699 [==============================] - 5s 306us/step - loss: 0.2321 - accuracy: 0.8985\n",
      "Epoch 10/20\n",
      "16699/16699 [==============================] - 5s 305us/step - loss: 0.2299 - accuracy: 0.8987\n",
      "Epoch 11/20\n",
      "16699/16699 [==============================] - 5s 305us/step - loss: 0.2277 - accuracy: 0.8990\n",
      "Epoch 12/20\n",
      "16699/16699 [==============================] - 5s 305us/step - loss: 0.2266 - accuracy: 0.8988\n",
      "Epoch 13/20\n",
      "16699/16699 [==============================] - 5s 307us/step - loss: 0.2258 - accuracy: 0.8987\n",
      "Epoch 14/20\n",
      "16699/16699 [==============================] - 5s 312us/step - loss: 0.2241 - accuracy: 0.8987\n",
      "Epoch 15/20\n",
      "16699/16699 [==============================] - 5s 311us/step - loss: 0.2228 - accuracy: 0.8988\n",
      "Epoch 16/20\n",
      "16699/16699 [==============================] - 5s 310us/step - loss: 0.2220 - accuracy: 0.8990\n",
      "Epoch 17/20\n",
      "16699/16699 [==============================] - 5s 310us/step - loss: 0.2215 - accuracy: 0.8986\n",
      "Epoch 18/20\n",
      "16699/16699 [==============================] - 5s 312us/step - loss: 0.2209 - accuracy: 0.8991\n",
      "Epoch 19/20\n",
      "16699/16699 [==============================] - 5s 310us/step - loss: 0.2202 - accuracy: 0.8988\n",
      "Epoch 20/20\n",
      "16699/16699 [==============================] - 5s 310us/step - loss: 0.2200 - accuracy: 0.8991\n"
     ]
    },
    {
     "data": {
      "text/plain": [
       "<keras.callbacks.History at 0x2bfc96860>"
      ]
     },
     "execution_count": 22,
     "metadata": {},
     "output_type": "execute_result"
    }
   ],
   "source": [
    "%time\n",
    "model.fit(x=X_train, y=y_train, epochs=20)"
   ]
  },
  {
   "cell_type": "markdown",
   "id": "b001967b-d7a5-4ffb-9e51-0391a23c7143",
   "metadata": {},
   "source": [
    "Now let’s plot the accuracy to have a look at the accuracy of the neural networks at each epoch:"
   ]
  },
  {
   "cell_type": "code",
   "execution_count": 27,
   "id": "df459963-735e-4a56-89ec-35b86c305ec0",
   "metadata": {},
   "outputs": [
    {
     "data": {
      "image/png": "[encoded data removed]",
      "text/plain": [
       "<Figure size 1000x700 with 1 Axes>"
      ]
     },
     "metadata": {},
     "output_type": "display_data"
    }
   ],
   "source": [
    "plt.style.use(\"seaborn-v0_8-whitegrid\")\n",
    "mod_history = pd.DataFrame(model.history.history)\n",
    "plt.figure(figsize=(10,7))\n",
    "plt.title('Model History')\n",
    "plt.ylabel('Accuracy')\n",
    "plt.xlabel('Epoch')\n",
    "plt.plot(mod_history['accuracy'], color='orange', lw=2);"
   ]
  },
  {
   "cell_type": "markdown",
   "id": "222bd8e4-d516-47fa-b5f5-ae3f4ff6af52",
   "metadata": {},
   "source": [
    "From this precision graph, we can deduce that after a certain epoch, i.e. approximately from the 6th epoch, the precision remained constant for all other epochs. Now let’s take our model through the confusion matrix algorithm and print a classification report:"
   ]
  },
  {
   "cell_type": "code",
   "execution_count": 32,
   "id": "915c0dcd-aa8e-4bcf-864b-e06d83ac11a9",
   "metadata": {},
   "outputs": [],
   "source": [
    "from sklearn.metrics import confusion_matrix, classification_report"
   ]
  },
  {
   "cell_type": "code",
   "execution_count": 33,
   "id": "e384b828-32a3-4521-8bba-db958245fbb6",
   "metadata": {},
   "outputs": [
    {
     "name": "stdout",
     "output_type": "stream",
     "text": [
      "4175/4175 [==============================] - 1s 227us/step\n",
      "              precision    recall  f1-score   support\n",
      "\n",
      "           0       0.89      0.86      0.87     38281\n",
      "           1       0.87      0.81      0.84     12554\n",
      "           2       0.91      0.93      0.92     82754\n",
      "\n",
      "    accuracy                           0.90    133589\n",
      "   macro avg       0.89      0.87      0.88    133589\n",
      "weighted avg       0.90      0.90      0.90    133589\n",
      "\n"
     ]
    }
   ],
   "source": [
    "y_pred = np.argmax(model.predict(X_test), axis=-1)  # https://stackoverflow.com/questions/68836551/keras-attributeerror-sequential-object-has-no-attribute-predict-classes\n",
    "confusion_matrix(y_test.argmax(axis=1), y_pred)\n",
    "print(classification_report(y_test.argmax(axis=1), y_pred))"
   ]
  }
 ],
 "metadata": {
  "kernelspec": {
   "display_name": "Python 3 (ipykernel)",
   "language": "python",
   "name": "python3"
  },
  "language_info": {
   "codemirror_mode": {
    "name": "ipython",
    "version": 3
   },
   "file_extension": ".py",
   "mimetype": "text/x-python",
   "name": "python",
   "nbconvert_exporter": "python",
   "pygments_lexer": "ipython3",
   "version": "3.10.8"
  }
 },
 "nbformat": 4,
 "nbformat_minor": 5
}
