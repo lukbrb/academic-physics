{
 "cells": [
  {
   "cell_type": "markdown",
   "id": "6519b723-2d2e-4bb9-9666-8bf9999ae749",
   "metadata": {},
   "source": [
    "# Essai normalisation \n",
    "Le but est d'avoir 1/3 de chaque classe"
   ]
  },
  {
   "cell_type": "code",
   "execution_count": 1,
   "id": "81ea2a5f-cfb1-4790-80ed-b1f2a1e37a21",
   "metadata": {},
   "outputs": [],
   "source": [
    "import numpy as np\n",
    "from collections import Counter\n",
    "from lblearn.datasets import load_galaxies"
   ]
  },
  {
   "cell_type": "code",
   "execution_count": 3,
   "id": "3a7ceaee-07d9-45ca-9ce9-782d5e1318a9",
   "metadata": {},
   "outputs": [],
   "source": [
    "galaxies = load_galaxies(balance=True, n_samples=100)"
   ]
  },
  {
   "cell_type": "code",
   "execution_count": 4,
   "id": "429560e9-5af3-4ec6-bb82-2676ef8d31a1",
   "metadata": {},
   "outputs": [],
   "source": [
    "y = galaxies.target\n",
    "count = Counter(y)"
   ]
  },
  {
   "cell_type": "code",
   "execution_count": 5,
   "id": "4793b0e6-93fa-4966-acc8-a051d9c66ddd",
   "metadata": {},
   "outputs": [],
   "source": [
    "min_class, min_val = count.most_common()[-1]"
   ]
  },
  {
   "cell_type": "code",
   "execution_count": 6,
   "id": "7a78e792-a3bc-4fed-824d-2eb82c1d0ad7",
   "metadata": {},
   "outputs": [
    {
     "name": "stdout",
     "output_type": "stream",
     "text": [
      "The least represented class is 2 with 100 datapoints\n"
     ]
    }
   ],
   "source": [
    "print(f\"The least represented class is {min_class} with {min_val} datapoints\")"
   ]
  },
  {
   "cell_type": "code",
   "execution_count": 7,
   "id": "55e48faa-dd47-44aa-94e7-5123417fdbfb",
   "metadata": {},
   "outputs": [
    {
     "data": {
      "text/plain": [
       "Counter({0: 100, 1: 100, 2: 100})"
      ]
     },
     "execution_count": 7,
     "metadata": {},
     "output_type": "execute_result"
    }
   ],
   "source": [
    "count"
   ]
  },
  {
   "cell_type": "markdown",
   "id": "a2eab306-fe24-4261-95b7-52aa81f87231",
   "metadata": {},
   "source": [
    "The lowest number of available data is the spiral ones, while the highest number of data points correspond to the 'uncertain' type. We want to equalize the count, so the final length of the data set should be 3x62190 = 186570"
   ]
  },
  {
   "cell_type": "markdown",
   "id": "d4dfb187-a0c3-41ec-9048-79e76b088f61",
   "metadata": {},
   "source": [
    "We then need to sample $N$ some of these indices."
   ]
  },
  {
   "cell_type": "code",
   "execution_count": 28,
   "id": "e3cc670b-7c72-4a8d-8b72-02e0a8fa737c",
   "metadata": {},
   "outputs": [],
   "source": [
    "samples0 = np.random.choice(np.where(y==0)[0], (min_val, ))\n",
    "samples1 = np.random.choice(np.where(y==1)[0], (min_val, ))\n",
    "samples2 = np.random.choice(np.where(y==2)[0], (min_val, ))"
   ]
  },
  {
   "cell_type": "code",
   "execution_count": 29,
   "id": "7519cbfd-03e7-4a08-8f9e-004a54c089b6",
   "metadata": {},
   "outputs": [],
   "source": [
    "assert len(samples1) == len(samples2) == len(samples0), f\"Sample length are not equal, {len(samples1)} different from {len(samples2)} and {len(samples0)}.\"\n",
    "assert np.all(samples1 != samples2), \"Some indices overlap but it should not be possible\"\n",
    "assert np.all(samples1 != samples0), \"Some indices overlap but it should not be possible\""
   ]
  },
  {
   "cell_type": "code",
   "execution_count": 30,
   "id": "353f5124-912b-4c6a-bb35-86ff7cb53fe7",
   "metadata": {},
   "outputs": [
    {
     "data": {
      "text/plain": [
       "(300,)"
      ]
     },
     "execution_count": 33,
     "metadata": {},
     "output_type": "execute_result"
    }
   ],
   "source": [
    "samples = np.hstack((samples0, samples1, samples2))\n",
    "samples.shape"
   ]
  },
  {
   "cell_type": "markdown",
   "id": "f16817f0-d299-4715-a5e6-2fbc244eff61",
   "metadata": {},
   "source": [
    "We now want to resample all the data given the indices in `samples`"
   ]
  },
  {
   "cell_type": "code",
   "execution_count": 26,
   "id": "421e9840-dd01-447c-be97-cef8953fcdcb",
   "metadata": {},
   "outputs": [
    {
     "data": {
      "text/plain": [
       "Counter({0: 62190, 1: 62190, 2: 62190})"
      ]
     },
     "execution_count": 26,
     "metadata": {},
     "output_type": "execute_result"
    }
   ],
   "source": [
    "y_balanced = y[samples]\n",
    "Counter(y_balanced)"
   ]
  },
  {
   "cell_type": "code",
   "execution_count": 27,
   "id": "955c76cc-da9e-4cfc-a2d5-aff068ad85b0",
   "metadata": {},
   "outputs": [
    {
     "name": "stdout",
     "output_type": "stream",
     "text": [
      "186570\n"
     ]
    }
   ],
   "source": [
    "data = galaxies.data[samples, :]\n",
    "print(len(data))"
   ]
  },
  {
   "cell_type": "code",
   "execution_count": null,
   "id": "666606ab-8fec-4f0c-93c9-62fd52772c39",
   "metadata": {},
   "outputs": [],
   "source": []
  }
 ],
 "metadata": {
  "kernelspec": {
   "display_name": "Python 3 (ipykernel)",
   "language": "python",
   "name": "python3"
  },
  "language_info": {
   "codemirror_mode": {
    "name": "ipython",
    "version": 3
   },
   "file_extension": ".py",
   "mimetype": "text/x-python",
   "name": "python",
   "nbconvert_exporter": "python",
   "pygments_lexer": "ipython3",
   "version": "3.10.8"
  }
 },
 "nbformat": 4,
 "nbformat_minor": 5
}
