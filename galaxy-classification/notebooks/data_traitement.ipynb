{
 "cells": [
  {
   "cell_type": "markdown",
   "id": "6519b723-2d2e-4bb9-9666-8bf9999ae749",
   "metadata": {},
   "source": [
    "# Essai normalisation \n",
    "Le but est d'avoir 1/3 de chaque classe"
   ]
  },
  {
   "cell_type": "code",
   "execution_count": 1,
   "id": "81ea2a5f-cfb1-4790-80ed-b1f2a1e37a21",
   "metadata": {},
   "outputs": [],
   "source": [
    "import numpy as np\n",
    "from collections import Counter\n",
    "from lblearn.data_preparation import load_galaxies"
   ]
  },
  {
   "cell_type": "code",
   "execution_count": 2,
   "id": "3a7ceaee-07d9-45ca-9ce9-782d5e1318a9",
   "metadata": {},
   "outputs": [],
   "source": [
    "galaxies = load_galaxies()"
   ]
  },
  {
   "cell_type": "code",
   "execution_count": 5,
   "id": "429560e9-5af3-4ec6-bb82-2676ef8d31a1",
   "metadata": {},
   "outputs": [],
   "source": [
    "y = galaxies.target\n",
    "count = Counter(y)"
   ]
  },
  {
   "cell_type": "code",
   "execution_count": 6,
   "id": "4793b0e6-93fa-4966-acc8-a051d9c66ddd",
   "metadata": {},
   "outputs": [
    {
     "data": {
      "text/plain": [
       "Counter({2: 415529, 0: 190225, 1: 62190})"
      ]
     },
     "execution_count": 6,
     "metadata": {},
     "output_type": "execute_result"
    }
   ],
   "source": [
    "count"
   ]
  },
  {
   "cell_type": "markdown",
   "id": "a2eab306-fe24-4261-95b7-52aa81f87231",
   "metadata": {},
   "source": [
    "The lowest number of available data is the spiral ones, while the highest number of data points correspond to the 'uncertain' type. We want to equalize the count, so the final length of the data set should be 3x62190 = 186570"
   ]
  },
  {
   "cell_type": "code",
   "execution_count": 9,
   "id": "e3cc670b-7c72-4a8d-8b72-02e0a8fa737c",
   "metadata": {},
   "outputs": [
    {
     "data": {
      "text/plain": [
       "(array([     0,      2,      4, ..., 667940, 667941, 667942]),)"
      ]
     },
     "execution_count": 9,
     "metadata": {},
     "output_type": "execute_result"
    }
   ],
   "source": [
    "np.where(y==2)"
   ]
  },
  {
   "cell_type": "markdown",
   "id": "d4dfb187-a0c3-41ec-9048-79e76b088f61",
   "metadata": {},
   "source": [
    "We then need to sample $N$ some of these indices."
   ]
  },
  {
   "cell_type": "code",
   "execution_count": null,
   "id": "d62ff1ba-8a77-474d-a129-8fe56174f77c",
   "metadata": {},
   "outputs": [],
   "source": []
  }
 ],
 "metadata": {
  "kernelspec": {
   "display_name": "Python 3 (ipykernel)",
   "language": "python",
   "name": "python3"
  },
  "language_info": {
   "codemirror_mode": {
    "name": "ipython",
    "version": 3
   },
   "file_extension": ".py",
   "mimetype": "text/x-python",
   "name": "python",
   "nbconvert_exporter": "python",
   "pygments_lexer": "ipython3",
   "version": "3.10.6"
  }
 },
 "nbformat": 4,
 "nbformat_minor": 5
}
