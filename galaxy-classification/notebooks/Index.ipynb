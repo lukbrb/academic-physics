{
 "cells": [
  {
   "cell_type": "markdown",
   "id": "53788279",
   "metadata": {},
   "source": [
    "# Galaxy Classification"
   ]
  },
  {
   "cell_type": "markdown",
   "id": "322148f6",
   "metadata": {},
   "source": [
    "## Section Notebooks\n",
    "\n",
    "The following notebooks correpsond to the material of each section of the report on `Galaxy Classification`. They can all be found on the GitHub repository : <https://github.com/lukbrb/academic-physics/tree/master/galaxy-classification>\n",
    "\n",
    "### 1.Ìntroduction\n",
    "Presentation of the project, exploration of the data.\n",
    "  + [DataExploration.ipynb](DataExploration.ipynb)\n",
    "  \n",
    "### 2. Introduction to Machine Learning\n",
    "Definition of machine learning. Its properties, how it works etc... \n",
    "  + [02.1-Machine-Learning-Intro.ipynb](02.1-Machine-Learning-Intro.ipynb)\n",
    "  \n",
    "### 3. Supervised Learning In-Depth\n",
    "Prentation of the most common algorithms for classifiers:\n",
    "  + [03.1-Classification-SVMs.ipynb](03.1-Classification-SVMs.ipynb)\n",
    "\n",
    "### 4. Unsupervised Learning In-Depth\n",
    "\n",
    "  + [04.1-Dimensionality-PCA.ipynb](04.1-Dimensionality-PCA.ipynb)\n",
    "  + [04.2-Clustering-KMeans.ipynb](04.2-Clustering-KMeans.ipynb)\n",
    "  + [04.3-Density-GMM.ipynb](04.3-Density-GMM.ipynb)\n",
    "  \n",
    "### 5. Model Validation In-Depth\n",
    "\n",
    "  + [05-Validation.ipynb](05-Validation.ipynb)\n",
    "  \n",
    "### 6. Bonus: Neural Networks and Deep Learning\n",
    "Presentation of neural networks, and convolutional networks. Exemples on images, and as typical classifiers.\n",
    "+ Faire un essai avec un classifieur normal sur les images.\n",
    "  + [NNClassifier.ipynb](NNClassifier.ipynb)"
   ]
  },
  {
   "cell_type": "code",
   "execution_count": null,
   "id": "098ddaf0-a2a2-42ae-8685-bc3096b35c01",
   "metadata": {},
   "outputs": [],
   "source": []
  }
 ],
 "metadata": {
  "kernelspec": {
   "display_name": "Python 3 (ipykernel)",
   "language": "python",
   "name": "python3"
  },
  "language_info": {
   "codemirror_mode": {
    "name": "ipython",
    "version": 3
   },
   "file_extension": ".py",
   "mimetype": "text/x-python",
   "name": "python",
   "nbconvert_exporter": "python",
   "pygments_lexer": "ipython3",
   "version": "3.10.6"
  }
 },
 "nbformat": 4,
 "nbformat_minor": 5
}
