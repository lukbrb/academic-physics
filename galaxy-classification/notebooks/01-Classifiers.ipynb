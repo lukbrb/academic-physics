{
 "cells": [
  {
   "cell_type": "markdown",
   "id": "9aef93a7-c543-4ebb-8c88-08630e53b320",
   "metadata": {},
   "source": [
    "# 1. Classification\n",
    "\n",
    "Presentation of some algorithms. We will here use some classifiers commonly used. The classifiers we compare here are the following :\n",
    "- [The K-Nearest Neighbors (KNN) Classifier](#1.1-K-Nearest-Neighbors)\n",
    "- [Support Vector Machine (SVM)](#1.2-Support-Vector-Machine)\n",
    "- [Gaussian Process Classifier](#1.3-Gaussian-Process-Classifier)\n",
    "- [Decision Tree Classifier](#1.4-Decision-Tree-Classifier)\n",
    "- [Random Forest Classifier](#1.5-Random-Forest-Classifier)\n",
    "- [The Ada Boost Classifier](#1.6-Ada-Boost-Classifier)\n",
    "- [Naive Bayes Classifier](#1.7-Naive-Bayes-Classifier)\n"
   ]
  },
  {
   "cell_type": "markdown",
   "id": "636205cc-0a11-452c-88cb-46ea74bdd077",
   "metadata": {
    "tags": []
   },
   "source": [
    "## 1.1 K-Nearest Neighbors\n",
    "..."
   ]
  },
  {
   "cell_type": "code",
   "execution_count": 1,
   "id": "f8ed5f43-ab74-49f3-8da2-010aa8284e74",
   "metadata": {},
   "outputs": [],
   "source": [
    "import numpy as np\n",
    "import matplotlib.pyplot as plt\n",
    "from sklearn.neighbors import KNeighborsClassifier\n",
    "from sklearn.preprocessing import MinMaxScaler, StandardScaler, Normalizer\n",
    "from sklearn.metrics import accuracy_score, confusion_matrix, ConfusionMatrixDisplay, classification_report\n",
    "from sklearn.model_selection import train_test_split, GridSearchCV\n",
    "from sklearn.pipeline import make_pipeline, Pipeline\n",
    "\n",
    "from lblearn.datasets import load_galaxies"
   ]
  },
  {
   "cell_type": "code",
   "execution_count": null,
   "id": "12dbc0a8-ede6-4926-a9b5-d3bb53fd3aa7",
   "metadata": {},
   "outputs": [],
   "source": [
    "galaxies = load_galaxies(n_samples=150)  # 150 of each species\n",
    "X, y = galaxies.data, galaxies.target\n",
    "X_train, X_test, y_train, y_test = train_test_split(X, y, test_size=0.3, random_state=1)\n",
    "\n",
    "model = KNeighborsClassifier(3)\n",
    "model.fit(X_train, y_train)\n",
    "predictions = model.predict(X_test)\n",
    "print(accuracy_score(y_pred=predictions, y_true=y_test))\n",
    "print(np.sum(predictions == y_test)/len(y_test))"
   ]
  },
  {
   "cell_type": "markdown",
   "id": "00eea61a-273f-473b-bdd1-90073cf5f8d8",
   "metadata": {},
   "source": [
    "The accuracy is better than random, but is still poor. To improve it, we can try to change some hyperparameters, such as the number of neighbor. Before doing so, we first try to scale the data. Indeed, the column `NVOTE`has large values whereas all the others are probabilities ranging from 0 to 1.  "
   ]
  },
  {
   "cell_type": "code",
   "execution_count": null,
   "id": "21957feb-5013-426e-b36e-610c7d767130",
   "metadata": {},
   "outputs": [],
   "source": [
    "galaxies = load_galaxies(n_samples=150)  # 150 of each species\n",
    "X, y = galaxies.data, galaxies.target\n",
    "\n",
    "scaler = MinMaxScaler()\n",
    "scaler_test = MinMaxScaler()\n",
    "X_train, X_test, y_train, y_test = train_test_split(X, y, test_size=0.3, random_state=1)\n",
    "scaler.fit(X_train[:, 0].reshape(-1, 1))  \n",
    "X_train[:, 0] = scaler.transform(X_train[:, 0].reshape(-1, 1)).flatten()  # All data is between 0 and 1 but NVOTE\n",
    "scaler_test.fit(X_test[:, 0].reshape(-1, 1))  \n",
    "X_test[:, 0] = scaler_test.transform(X_test[:, 0].reshape(-1, 1)).flatten()\n",
    "\n",
    "model = KNeighborsClassifier(7)\n",
    "model.fit(X_train, y_train)\n",
    "predictions = model.predict(X_test)\n",
    "\n",
    "score = accuracy_score(y_pred=predictions, y_true=y_test)\n",
    "print(score)\n",
    "print(np.sum(predictions == y_test)/len(y_test))"
   ]
  },
  {
   "cell_type": "markdown",
   "id": "d593008c-ac25-46a5-a2ae-d20bf4199d07",
   "metadata": {},
   "source": [
    "The accuracy score is a precious indicator on the performance of our model. However it does not indicate where the model has gone wrong. A good alternative to it is the confusion matrix:"
   ]
  },
  {
   "cell_type": "code",
   "execution_count": null,
   "id": "8acdc91c-b217-4f4d-bc39-c15389f95f94",
   "metadata": {},
   "outputs": [],
   "source": [
    "print(confusion_matrix(y_test, predictions))\n",
    "disp = ConfusionMatrixDisplay.from_predictions(y_test, predictions)\n",
    "disp.figure_.suptitle(f\"KNN, accuracy ={score: .2f}\");"
   ]
  },
  {
   "cell_type": "markdown",
   "id": "bc86da2d-f28c-4840-9451-f3cd632e58f6",
   "metadata": {},
   "source": [
    "Sklearn also implements grid search methods to find the best set of parameters for our model:"
   ]
  },
  {
   "cell_type": "code",
   "execution_count": null,
   "id": "8bb55df3-451b-4c0e-8860-c715bb6904e2",
   "metadata": {},
   "outputs": [],
   "source": [
    "galaxies = load_galaxies(n_samples=150)\n",
    "X, y = galaxies.data, galaxies.target\n",
    "X_train, X_test, y_train, y_test = train_test_split(X, y, test_size=0.3, random_state=1)\n",
    "\n",
    "\n",
    "pipe = Pipeline([('scale', MinMaxScaler()), ('clf', KNeighborsClassifier())])\n",
    "\n",
    "param_grid = {\"clf__n_neighbors\":list(range(1, 15)), \"clf__metric\": [\"euclidean\", \"manhattan\", \"chebyshev\", \"minkowski\"]} \n",
    "\n",
    "grid = GridSearchCV(pipe, param_grid, cv=5, scoring='accuracy', return_train_score=False, verbose=1, n_jobs=-1)\n",
    "\n",
    "# fitting the model for grid search\n",
    "grid_search = grid.fit(X_train, y_train)\n",
    "print(grid_search.best_params_, \":\", grid_search.best_score_)"
   ]
  },
  {
   "cell_type": "markdown",
   "id": "f9a6cf47-8845-4b8b-9095-573daa26d834",
   "metadata": {},
   "source": [
    "Altough the sklearn API is nicely designed and quite intuitive, adding all these steps can become quite tedious. This is particularly true when changing the type of classifier, all the lines have to be rewritten. Luckily enough, sklearn provide a nice way to overcome this difficulty: the pipelines"
   ]
  },
  {
   "cell_type": "code",
   "execution_count": null,
   "id": "60bb0d2e-8f87-423f-b9f4-a620f2b63676",
   "metadata": {},
   "outputs": [],
   "source": [
    "galaxies = load_galaxies(n_samples=300)\n",
    "X, y = galaxies.data, galaxies.target\n",
    "X_train, X_test, y_train, y_test = train_test_split(X, y, test_size=0.3, random_state=1)\n",
    "\n",
    "classifier = KNeighborsClassifier(3, metric='euclidean')\n",
    "clf = make_pipeline(MinMaxScaler(), classifier)\n",
    "clf.fit(X_train, y_train)\n",
    "predictions = clf.predict(X_test)\n",
    "score = accuracy_score(y_test, predictions)\n",
    "\n",
    "disp = ConfusionMatrixDisplay.from_predictions(y_test, predictions)\n",
    "disp.figure_.suptitle(f\"KNN, accuracy ={score: .2f}\")\n",
    "plt.savefig(\"plots/KNN_cm.jpg\");"
   ]
  },
  {
   "cell_type": "markdown",
   "id": "ffd9dd75-b73c-47c2-85d8-28cffa35d7d3",
   "metadata": {},
   "source": [
    "## 1.2 Support Vector Machine\n",
    "\n",
    "Les machines à vecteurs de support (SVM) sont une famille d'algorithmes d'apprentissage supervisé utilisée pour la classification et la régression. L'objectif des SVM est de trouver une frontière de décision optimale, appelée hyperplan, qui sépare les différentes classes d'échantillons de données en maximisant la marge, c'est-à-dire la distance entre les échantillons les plus proches de chaque classe. Cette approche est particulièrement utile pour les jeux de données avec des caractéristiques complexes et non linéaires, où une simple frontière de décision linéaire ne suffit pas à séparer efficacement les classes. Les SVM peuvent également être utilisées pour des jeux de données de petite et moyenne taille, mais ne sont pas recommandées pour des jeux de données très volumineux car elles peuvent être assez gourmandes en ressources.\n",
    "\n",
    "Les SVM disposent de plusieurs paramètres importants qui doivent être ajustés pour obtenir les meilleures performances pour un jeu de données donné. Parmi ces paramètres, on peut citer le choix de la fonction noyau (par exemple, linéaire, polynomial ou fonction de base radiale (RBF)), la régularisation C et le gamma. La fonction noyau est utilisée pour transformer les données d'entrée en un espace de dimension supérieure où les classes sont plus facilement séparables. Les noyaux les plus couramment utilisés sont les noyaux linéaires, polynomiaux et radiaux. Les noyaux linéaires sont utilisés pour les données linéairement séparables, tandis que les noyaux polynomiaux et radiaux sont utilisés pour les données non linéaires. Le choix de la fonction noyau dépend de la nature des données d’entrée.\n",
    "\n",
    "Le paramètre de régularisation C contrôle le compromis entre la maximisation de la marge et la minimisation de l'erreur. Les valeurs de C plus élevées entraînent des marges plus étroites et une classification plus précise des points de données d'entraînement, mais peuvent également entraîner un sur-ajustement. Les valeurs de C plus faibles permettent des marges plus larges et une classification moins précise des points de données d'entraînement, mais peuvent également réduire le sur-ajustement.\n",
    "\n",
    "Le paramètre gamma est le coefficient du noyau RBF. Ce paramètre affecte la forme des frontières de décision. Les valeurs de gamma plus élevées entraînent des frontières de décision plus complexes, qui peuvent conduire à un sur-ajustement. Les valeurs de gamma plus faibles entraînent des frontières de décision plus lisses, qui peuvent conduire à une sous-ajustement."
   ]
  },
  {
   "cell_type": "code",
   "execution_count": null,
   "id": "9534bd48-5811-4010-9610-fb942ce9fdb2",
   "metadata": {},
   "outputs": [],
   "source": [
    "from sklearn.svm import SVC"
   ]
  },
  {
   "cell_type": "code",
   "execution_count": null,
   "id": "2b5ba256-60fd-4b21-b24d-080999e194a7",
   "metadata": {},
   "outputs": [],
   "source": [
    "galaxies = load_galaxies(n_samples=100)\n",
    "X, y = galaxies.data, galaxies.target\n",
    "X_train, X_test, y_train, y_test = train_test_split(X, y, test_size=0.3, random_state=1)\n",
    "\n",
    "pipe = Pipeline([('scale', MinMaxScaler()), ('clf', SVC())])\n",
    "\n",
    "\n",
    "param_grid = [\n",
    "  {'clf__C': [1, 10, 100, 1000, 1500, 10_000], 'clf__kernel': ['linear']},\n",
    "  {'clf__C': [1, 10, 100, 1000, 1500, 10_000], 'clf__gamma': [0.001, 0.0001], 'clf__kernel': ['rbf']},\n",
    " ] \n",
    "\n",
    "grid = GridSearchCV(pipe, param_grid, cv=5, scoring='accuracy', return_train_score=True, verbose=1, n_jobs=-1)\n",
    "\n",
    "# fitting the model for grid search\n",
    "grid_search = grid.fit(X_train, y_train)\n",
    "print(grid_search.best_params_, \":\", grid_search.best_score_)"
   ]
  },
  {
   "cell_type": "code",
   "execution_count": null,
   "id": "4579437b-0534-4235-adbc-553f7a56176b",
   "metadata": {},
   "outputs": [],
   "source": [
    "galaxies = load_galaxies(n_samples=100)\n",
    "X, y = galaxies.data, galaxies.target\n",
    "X_train, X_test, y_train, y_test = train_test_split(X, y, test_size=0.3, random_state=1)\n",
    "\n",
    "classifier = SVC(kernel='linear', C=1000)\n",
    "clf = make_pipeline(MinMaxScaler(), classifier)\n",
    "clf.fit(X_train, y_train)\n",
    "predictions = clf.predict(X_test)\n",
    "score = accuracy_score(y_test, predictions)\n",
    "disp = ConfusionMatrixDisplay.from_predictions(y_test, predictions)\n",
    "disp.figure_.suptitle(f\"SVC, accuracy ={score: .2f}\")\n",
    "plt.savefig(\"plots/SVM_cm.jpg\");"
   ]
  },
  {
   "cell_type": "markdown",
   "id": "e7f40bca-cab8-4ad9-9828-451c6c2c1aa8",
   "metadata": {},
   "source": [
    "## 1.3 Gaussian Process Classifier\n",
    "..."
   ]
  },
  {
   "cell_type": "code",
   "execution_count": null,
   "id": "77baece9-ecbf-42f1-a942-46052a4f57be",
   "metadata": {},
   "outputs": [],
   "source": [
    "from sklearn.gaussian_process import GaussianProcessClassifier\n",
    "from sklearn.gaussian_process.kernels import RBF, DotProduct"
   ]
  },
  {
   "cell_type": "code",
   "execution_count": null,
   "id": "bcfec5bb-6aef-483f-910d-f09f269cf843",
   "metadata": {},
   "outputs": [],
   "source": [
    "galaxies = load_galaxies(n_samples=100)\n",
    "X, y = galaxies.data, galaxies.target\n",
    "X_train, X_test, y_train, y_test = train_test_split(X, y, test_size=0.3, random_state=1)\n",
    "\n",
    "scaler = MinMaxScaler()\n",
    "scaler_test = MinMaxScaler()\n",
    "\n",
    "scaler.fit(X_train[:, 0].reshape(-1, 1))  \n",
    "X_train[:, 0] = scaler.transform(X_train[:, 0].reshape(-1, 1)).flatten()  # All data is between 0 and 1 but NVOTE\n",
    "scaler_test.fit(X_test[:, 0].reshape(-1, 1))  \n",
    "X_test[:, 0] = scaler_test.transform(X_test[:, 0].reshape(-1, 1)).flatten()\n",
    "\n",
    "classifier = GaussianProcessClassifier()\n",
    "\n",
    "param_grid = [{\n",
    "    \"kernel\": [RBF(l) for l in np.logspace(-1, 1, 10)]\n",
    "}, {\n",
    "    \"kernel\": [DotProduct(sigma_0) for sigma_0 in np.logspace(-1, 1, 10)]\n",
    "}]\n",
    "\n",
    "grid = GridSearchCV(classifier, param_grid, cv=5, scoring='accuracy', return_train_score=True, verbose=1, n_jobs=-1)\n",
    "\n",
    "# fitting the model for grid search\n",
    "grid_search = grid.fit(X_train, y_train)\n",
    "print(grid_search.best_params_, \":\", grid_search.best_score_)"
   ]
  },
  {
   "cell_type": "code",
   "execution_count": null,
   "id": "1b4e2039-d9ad-4ad2-b63e-1f4a26bfbe81",
   "metadata": {},
   "outputs": [],
   "source": [
    "galaxies = load_galaxies(n_samples=100)\n",
    "X, y = galaxies.data, galaxies.target\n",
    "X_train, X_test, y_train, y_test = train_test_split(X, y, test_size=0.3, random_state=1)\n",
    "\n",
    "classifier = GaussianProcessClassifier(DotProduct(0.1))\n",
    "clf = make_pipeline(MinMaxScaler(), classifier)\n",
    "clf.fit(X_train, y_train)\n",
    "predictions = clf.predict(X_test)\n",
    "score = accuracy_score(y_test, predictions)\n",
    "print(confusion_matrix(y_test, predictions))\n",
    "disp = ConfusionMatrixDisplay.from_predictions(y_test, predictions)\n",
    "disp.figure_.suptitle(f\"Gaussian process, accuracy ={score: .2f}\");"
   ]
  },
  {
   "cell_type": "markdown",
   "id": "7d89638a-0243-40fb-be28-3d606dab28c0",
   "metadata": {},
   "source": [
    "## 1.4 Decision Tree Classifier\n",
    "..."
   ]
  },
  {
   "cell_type": "code",
   "execution_count": 18,
   "id": "53186096-e203-45bb-bd9f-b314dd42d58e",
   "metadata": {},
   "outputs": [],
   "source": [
    "from sklearn.tree import DecisionTreeClassifier, export_graphviz\n",
    "import graphviz"
   ]
  },
  {
   "cell_type": "code",
   "execution_count": 19,
   "id": "0c22bcc4-a9c8-4941-af3b-fe572cbc5aff",
   "metadata": {},
   "outputs": [
    {
     "name": "stdout",
     "output_type": "stream",
     "text": [
      "Fitting 5 folds for each of 75 candidates, totalling 375 fits\n",
      "{'criterion': 'entropy', 'max_depth': 19} : 0.819047619047619\n"
     ]
    }
   ],
   "source": [
    "galaxies = load_galaxies(n_samples=100)\n",
    "X, y = galaxies.data, galaxies.target\n",
    "X_train, X_test, y_train, y_test = train_test_split(X, y, test_size=0.3, random_state=1)\n",
    "\n",
    "\n",
    "pipe = Pipeline([('scale', MinMaxScaler()), ('clf', DecisionTreeClassifier())])\n",
    "\n",
    "classifier = DecisionTreeClassifier()\n",
    "\n",
    "param_grid = [\n",
    "    {'criterion': ['entropy', 'gini', 'log_loss'], 'max_depth': list(range(5, 30))}\n",
    "             ]\n",
    "\n",
    "grid = GridSearchCV(classifier, param_grid, cv=5, scoring='accuracy', return_train_score=True, verbose=1, n_jobs=-1)\n",
    "\n",
    "# fitting the model for grid search\n",
    "grid_search = grid.fit(X_train, y_train)\n",
    "print(grid_search.best_params_, \":\", grid_search.best_score_)"
   ]
  },
  {
   "cell_type": "code",
   "execution_count": 25,
   "id": "227aacd1-8259-42cf-8f9c-9d96fa21b0a4",
   "metadata": {},
   "outputs": [
    {
     "data": {
      "image/png": "[encoded data removed]",
      "text/plain": [
       "<Figure size 640x480 with 2 Axes>"
      ]
     },
     "metadata": {},
     "output_type": "display_data"
    }
   ],
   "source": [
    "galaxies = load_galaxies(n_samples=100)\n",
    "X, y = galaxies.data, galaxies.target\n",
    "X_train, X_test, y_train, y_test = train_test_split(X, y, test_size=0.3, random_state=1)\n",
    "\n",
    "classifier = DecisionTreeClassifier(criterion='log_loss', max_depth=14)\n",
    "\n",
    "classifier.fit(X_train, y_train)\n",
    "predictions = clf.predict(X_test)\n",
    "score = accuracy_score(y_test, predictions)\n",
    "disp = ConfusionMatrixDisplay.from_predictions(y_test, predictions)\n",
    "disp.figure_.suptitle(f\"Decision Tree, accuracy ={score: .2f}\");"
   ]
  },
  {
   "cell_type": "code",
   "execution_count": 29,
   "id": "d657ab82-3d83-4ef2-b550-518b919f20d5",
   "metadata": {},
   "outputs": [
    {
     "data": {
      "text/plain": [
       "'arbre_decision.pdf'"
      ]
     },
     "execution_count": 29,
     "metadata": {},
     "output_type": "execute_result"
    }
   ],
   "source": [
    "dot_data = export_graphviz(classifier, out_file=None, \n",
    "                           feature_names=galaxies.feature_names,  \n",
    "                           class_names=galaxies.target_names,  \n",
    "                           filled=True, rounded=True,  \n",
    "                           special_characters=True)  \n",
    "\n",
    "# Afficher l'arbre dans Jupyter Notebook ou dans un IDE\n",
    "graph = graphviz.Source(dot_data)\n",
    "graph.render(\"arbre_decision\")\n",
    "\n",
    "# Sauvegarder l'arbre au format PDF\n",
    "graph.format = 'pdf'\n",
    "graph.render(\"arbre_decision\")"
   ]
  },
  {
   "cell_type": "markdown",
   "id": "84cc385c-0587-4ad1-bf55-136630a4a8e6",
   "metadata": {},
   "source": [
    "## 1.5 Random Forest Classifier\n",
    "..."
   ]
  },
  {
   "cell_type": "code",
   "execution_count": null,
   "id": "56f78b1d-6aa7-4137-aa42-3b2b87bd0b62",
   "metadata": {},
   "outputs": [],
   "source": [
    "from sklearn.ensemble import RandomForestClassifier"
   ]
  },
  {
   "cell_type": "code",
   "execution_count": null,
   "id": "30bc7507-5d77-46d2-9ae5-7b4e47434212",
   "metadata": {},
   "outputs": [],
   "source": [
    "galaxies = load_galaxies(n_samples=100)\n",
    "X, y = galaxies.data, galaxies.target\n",
    "X_train, X_test, y_train, y_test = train_test_split(X, y, test_size=0.3, random_state=1)\n",
    "\n",
    "scaler = MinMaxScaler()\n",
    "scaler_test = MinMaxScaler()\n",
    "\n",
    "scaler.fit(X_train[:, 0].reshape(-1, 1))  \n",
    "X_train[:, 0] = scaler.transform(X_train[:, 0].reshape(-1, 1)).flatten()  # All data is between 0 and 1 but NVOTE\n",
    "scaler_test.fit(X_test[:, 0].reshape(-1, 1))  \n",
    "X_test[:, 0] = scaler_test.transform(X_test[:, 0].reshape(-1, 1)).flatten()\n",
    "\n",
    "classifier = RandomForestClassifier()\n",
    "\n",
    "param_grid = [\n",
    "    {'criterion': ['entropy', 'gini', 'log_loss'], 'max_depth': list(range(20, 40)),\n",
    "     'n_estimators' : [20, 30]\n",
    "    }\n",
    "             ]\n",
    "\n",
    "grid = GridSearchCV(classifier, param_grid, cv=10, scoring='accuracy', return_train_score=True, verbose=1, n_jobs=-1)\n",
    "\n",
    "# fitting the model for grid search\n",
    "grid_search = grid.fit(X_train, y_train)\n",
    "grid_search.best_params_"
   ]
  },
  {
   "cell_type": "code",
   "execution_count": null,
   "id": "da84b039-a31a-46d4-bb38-c43298314bf1",
   "metadata": {},
   "outputs": [],
   "source": [
    "galaxies = load_galaxies(n_samples=100)\n",
    "X, y = galaxies.data, galaxies.target\n",
    "X_train, X_test, y_train, y_test = train_test_split(X, y, test_size=0.3, random_state=1)\n",
    "\n",
    "classifier = RandomForestClassifier(n_estimators=20, criterion='entropy', max_depth=34)\n",
    "clf = make_pipeline(MinMaxScaler(), classifier)\n",
    "clf.fit(X_train, y_train)\n",
    "predictions = clf.predict(X_test)\n",
    "score = accuracy_score(y_test, predictions)\n",
    "disp = ConfusionMatrixDisplay.from_predictions(y_test, predictions)\n",
    "disp.figure_.suptitle(f\"Random Forest, accuracy ={score: .2f}\");"
   ]
  },
  {
   "cell_type": "markdown",
   "id": "9796d2d6-bc0f-49e6-a6bb-8b7aa3a4b174",
   "metadata": {},
   "source": [
    "## 1.6 Perceptron\n",
    "\n",
    "Le perceptron est un algorithme de classification binaire linéaire qui apprend un\n",
    "hyperplan séparateur pour séparer les données en deux classes. Il est basé sur une fonction\n",
    "d'activation en escalier qui prend la somme pondérée des entrées et retourne une sortie\n",
    "binaire. Le modèle est entraîné en ajustant les poids des entrées pour minimiser l'erreur de\n",
    "classification.\n",
    "Le perceptron est le plus efficace lorsque les données sont linéairement séparables,\n",
    "c'est-à-dire lorsque les deux classes peuvent être séparées par un hyperplan. Il a été l'un\n",
    "des premiers algorithmes d'apprentissage automatique à être développé et est souvent\n",
    "utilisé comme base pour des modèles plus complexes comme les réseaux de neurones. Il\n",
    "est également utilisé pour la classification en temps réel et l'apprentissage en ligne. Le\n",
    "perceptron est à la base un algorithme binaire, donc il est plus naturellement utilisé pour\n",
    "des problèmes de classification binaire. Cependant, il est possible de l'étendre à plusieurs\n",
    "classes en utilisant des techniques de \"one-vs-all\" ou \"one-vs-one\". Dans le premier cas,\n",
    "on entraine $K$ perceptrons binaires, chacun distinguant une classe des autres, et dans le\n",
    "deuxième cas, on entraine $K(K-1)/2$ perceptrons binaires, chacun distinguant deux classes\n",
    "à la fois.\n",
    "Donc, même si le perceptron est plus efficace pour des problèmes de classification\n",
    "binaire, il est toujours possible de l'utiliser pour des problèmes multi-classe en adaptant\n",
    "l’algorithme."
   ]
  },
  {
   "cell_type": "code",
   "execution_count": 2,
   "id": "3589a6e3-e88a-43eb-815e-eb07e4e701ea",
   "metadata": {},
   "outputs": [],
   "source": [
    "from sklearn.linear_model import Perceptron\n",
    "from sklearn.pipeline import Pipeline"
   ]
  },
  {
   "cell_type": "code",
   "execution_count": 3,
   "id": "437b584c-14d4-451c-9498-0ac171886bf7",
   "metadata": {},
   "outputs": [
    {
     "name": "stdout",
     "output_type": "stream",
     "text": [
      "Fitting 5 folds for each of 225 candidates, totalling 1125 fits\n",
      "{'clf__alpha': 0.001, 'clf__eta0': 0.01, 'clf__penalty': 'l1', 'clf__tol': 1e-05} : 0.819047619047619\n"
     ]
    }
   ],
   "source": [
    "galaxies = load_galaxies(n_samples=100)\n",
    "X, y = galaxies.data, galaxies.target\n",
    "X_train, X_test, y_train, y_test = train_test_split(X, y, test_size=0.3, random_state=1)\n",
    "\n",
    "param_grid = [{\n",
    "    'clf__tol': [1e-1, 1e-3, 1e-5],\n",
    "    'clf__penalty': ['l2', 'l1', 'elasticnet'],\n",
    "    'clf__alpha': [1e-4, 1e-3, 1e-2, 1e-1, 1],\n",
    "    'clf__eta0': [1e-4, 1e-3, 1e-2, 1e-1, 1]\n",
    "}]\n",
    "\n",
    "\n",
    "pipe = Pipeline([('scale', MinMaxScaler()), ('clf', Perceptron())])\n",
    "\n",
    "grid = GridSearchCV(pipe, param_grid,scoring='accuracy', cv=5, return_train_score=True, verbose=1, n_jobs=-1)\n",
    "\n",
    "grid_search = grid.fit(X_train, y_train)\n",
    "print(grid_search.best_params_, \":\", grid_search.best_score_)"
   ]
  },
  {
   "cell_type": "code",
   "execution_count": 4,
   "id": "69c6f78e-48c6-4d16-9555-f42e749f0987",
   "metadata": {},
   "outputs": [
    {
     "data": {
      "image/png": "[encoded data removed]",
      "text/plain": [
       "<Figure size 640x480 with 2 Axes>"
      ]
     },
     "metadata": {},
     "output_type": "display_data"
    }
   ],
   "source": [
    "galaxies = load_galaxies(n_samples=100)\n",
    "X, y = galaxies.data, galaxies.target\n",
    "X_train, X_test, y_train, y_test = train_test_split(X, y, test_size=0.3, random_state=1)\n",
    "\n",
    "classifier = Perceptron(alpha=0.001, eta0=0.01, penalty='l1', tol=1e-5)\n",
    "clf = make_pipeline(MinMaxScaler(), classifier)\n",
    "clf.fit(X_train, y_train)\n",
    "predictions = clf.predict(X_test)\n",
    "score = accuracy_score(y_test, predictions)\n",
    "disp = ConfusionMatrixDisplay.from_predictions(y_test, predictions)\n",
    "disp.figure_.suptitle(f\"Perceptron, accuracy ={score: .2f}\")\n",
    "plt.savefig(\"plots/Perceptron_cm.jpg\");"
   ]
  },
  {
   "cell_type": "markdown",
   "id": "2ed99c36-da92-4fa8-a323-f60fa50ba371",
   "metadata": {},
   "source": [
    "## 1.8 Ada Boost Classifier\n",
    "..."
   ]
  },
  {
   "cell_type": "code",
   "execution_count": null,
   "id": "e5ef41e2-f6c3-45b0-8d12-003065dfd0c3",
   "metadata": {},
   "outputs": [],
   "source": [
    "from sklearn.ensemble import AdaBoostClassifier"
   ]
  },
  {
   "cell_type": "code",
   "execution_count": null,
   "id": "d2018165-de24-4ecd-82f7-0314d617ff2b",
   "metadata": {},
   "outputs": [],
   "source": [
    "galaxies = load_galaxies(n_samples=100)\n",
    "X, y = galaxies.data, galaxies.target\n",
    "X_train, X_test, y_train, y_test = train_test_split(X, y, test_size=0.3, random_state=1)\n",
    "\n",
    "pipe = Pipeline([('scale', StandardScaler()), ('clf', AdaBoostClassifier(estimator=DecisionTreeClassifier()))])\n",
    "\n",
    "param_grid = {'clf__estimator__max_depth':list(range(1, 30)),\n",
    "              'clf__estimator__criterion':['entropy', 'gini', 'log_loss'],\n",
    "              'clf__n_estimators':[10, 50, 250, 1000],\n",
    "              'clf__learning_rate':[0.01, 0.1]} \n",
    "\n",
    "\n",
    "grid = GridSearchCV(pipe, param_grid, scoring='accuracy', cv=5, return_train_score=True, verbose=1, n_jobs=-1)\n",
    "\n",
    "grid_search = grid.fit(X_train, y_train)\n",
    "grid_search.best_params_"
   ]
  },
  {
   "cell_type": "code",
   "execution_count": null,
   "id": "1e4bf24a-d5dc-4977-8bd1-df7aa4f5a8ab",
   "metadata": {},
   "outputs": [],
   "source": [
    "galaxies = load_galaxies(n_samples=100)\n",
    "X, y = galaxies.data, galaxies.target\n",
    "X_train, X_test, y_train, y_test = train_test_split(X, y, test_size=0.3, random_state=1)\n",
    "\n",
    "classifier = AdaBoostClassifier(estimator=DecisionTreeClassifier(criterion='entropy', max_depth=3), learning_rate=0.1, n_estimators=250)\n",
    "clf = make_pipeline(MinMaxScaler(), classifier)\n",
    "clf.fit(X_train, y_train)\n",
    "predictions = clf.predict(X_test)\n",
    "score = accuracy_score(y_test, predictions)\n",
    "print(confusion_matrix(y_test, predictions))\n",
    "disp = ConfusionMatrixDisplay.from_predictions(y_test, predictions)\n",
    "disp.figure_.suptitle(f\"AdaBoost, accuracy ={score: .2f}\");"
   ]
  },
  {
   "cell_type": "markdown",
   "id": "f87e9071-e6a1-4cc9-94fd-e103a9027132",
   "metadata": {},
   "source": [
    "## 1.9  Multi Layer Perceptron \n",
    "\n",
    "..."
   ]
  },
  {
   "cell_type": "code",
   "execution_count": null,
   "id": "2373a1f1-3982-40a6-be17-fd4fce768df4",
   "metadata": {},
   "outputs": [],
   "source": [
    "from sklearn.neural_network import MLPClassifier"
   ]
  },
  {
   "cell_type": "code",
   "execution_count": null,
   "id": "041af898-c33f-4263-9ce2-68af69dd243f",
   "metadata": {},
   "outputs": [],
   "source": [
    "galaxies = load_galaxies(n_samples=10000)\n",
    "X, y = galaxies.data, galaxies.target\n",
    "X_train, X_test, y_train, y_test = train_test_split(X, y, test_size=0.3, random_state=1)\n",
    "\n",
    "\n",
    "pipeline = Pipeline([\n",
    "    ('scale', StandardScaler()),\n",
    "    ('mlp', MLPClassifier())\n",
    "])\n",
    "\n",
    "# Définition des paramètres pour la recherche de grille\n",
    "parameters = {\n",
    "    'mlp__hidden_layer_sizes': [(32, 32), (50, 50)],\n",
    "    'mlp__activation': ['relu', 'tanh'],\n",
    "    'mlp__alpha': [0.0001, 0.001, 0.01],\n",
    "    'mlp__learning_rate': ['constant', 'adaptive'],\n",
    "    'mlp__max_iter': [3000, 4000, 5000]\n",
    "}\n",
    "\n",
    "# Création de l'estimateur GridSearchCV\n",
    "grid_search = GridSearchCV(pipeline, parameters, scoring='accuracy', cv=2, return_train_score=True, verbose=3, n_jobs=-1)\n",
    "\n",
    "# Entrainement sur les données\n",
    "grid_search.fit(X_train, y_train)\n",
    "\n",
    "# Affichage des meilleurs paramètres et score\n",
    "print(\"Meilleurs paramètres: \", grid_search.best_params_)\n",
    "print(\"Score de la meilleure configuration: \", grid_search.best_score_)"
   ]
  },
  {
   "cell_type": "code",
   "execution_count": null,
   "id": "03a8d80f-47c5-467c-b074-e369ce43d84d",
   "metadata": {},
   "outputs": [],
   "source": [
    "galaxies = load_galaxies(n_samples=100)\n",
    "X, y = galaxies.data, galaxies.target\n",
    "X_train, X_test, y_train, y_test = train_test_split(X, y, test_size=0.3, random_state=1)\n",
    "\n",
    "classifier = AdaBoostClassifier(estimator=DecisionTreeClassifier(criterion='entropy', max_depth=3), learning_rate=0.1, n_estimators=250)\n",
    "clf = make_pipeline(MinMaxScaler(), classifier)\n",
    "clf.fit(X_train, y_train)\n",
    "predictions = clf.predict(X_test)\n",
    "score = accuracy_score(y_test, predictions)\n",
    "print(confusion_matrix(y_test, predictions))\n",
    "disp = ConfusionMatrixDisplay.from_predictions(y_test, predictions)\n",
    "disp.figure_.suptitle(f\"AdaBoost, accuracy ={score: .2f}\");"
   ]
  },
  {
   "cell_type": "markdown",
   "id": "c995145c-c74e-4ac8-9fe8-c398fc144721",
   "metadata": {},
   "source": [
    "## 1.10 Naive Bayes Classifier\n",
    "\n",
    "Les méthodes naïves bayésiennes sont un ensemble d’algorithmes d’apprentissage supervisé qui sont basés sur l’application du théorème de Bayes. Ce théorème permet de calculer la probabilité conditionnelle d'un événement A sachant un événement B, à partir de la probabilité conditionnelle de B sachant A et des probabilités marginales de A et B. Le théorème de Bayes s'écrit ainsi :\n",
    "\n",
    "\\begin{equation}\n",
    "    P(A \\mid B) = \\frac{P(B \\mid A) \\times P(A)}{P(B)}\n",
    "    \\label{eq:bayes-theorem}\n",
    "\\end{equation}\n",
    "\n",
    "\n",
    "Les méthodes naïves bayésiennes font l'hypothèse d'indépendance conditionnelle entre chaque paire de caractéristiques, étant donné la valeur de la variable appartenant à la classe. Cela se traduit mathématiquement par la modification suivante du théorème de Bayes :\n",
    "\n",
    "\\begin{equation}\n",
    "    P(y|x_1,...,x_n) = \\frac{P(y)\\prod_{i=1}^nP(x_i|y)}{P(x_1,...,x_n)}\n",
    "    \\label{eq:naive-bayes-theorem}\n",
    "\\end{equation}\n",
    "\n",
    "Cette formule est la base de tous les classificateurs naïfs bayésiens. La seule différence entre ces classificateurs réside dans la distribution $P(x_i | y)$, c’est-à-dire la probabilité que $x_i$ correspondant à la classe $y$. Ce type de classificateur fonctionne bien pour la classification de documents ou le filtrage des pourriels, par exemple. Les classificateurs naïfs bayésiens ont de nombreux avantages tels que le peu de données d’entraînement nécessaire, la vitesse ou l’insensibilité au fléau de la dimension. Néanmoins, bien que ce soient de bons classificateurs, ils s’avèrent être de mauvais estimateurs.\n",
    "\n",
    "Parmi les lois de probabilités pour $P(x_i | y)$, on trouve notamment la loi normale, la loi de Bernoulli et la loi multinomiale. Le classificateur naïf bayésien gaussien utilise une loi normale pour modéliser la distribution de chaque caractéristique $x_i$ pour chaque classe $y$. Les paramètres de la loi normale (moyenne et écart-type) sont estimés à partir des données d'entraînement. Parmi les classificateurs naïfs bayésiens on trouve :\n",
    "\n",
    "- Classificateur naïf bayésien gaussien\n",
    "- Classificateur naïf bayésien de Bernoulli\n",
    "- Classificateur naïf bayésien multinomial\n",
    "\n",
    "\n",
    "En utilisant les méthodes naïves bayésiennes, nous pouvons donc construire des modèles de classification efficaces pour des problèmes avec des caractéristiques discrètes ou continues. Le choix de la distribution appropriée dépendra des caractéristiques des données et des hypothèses que nous faisons sur leur distribution. Pour déterminer quel classificateurs correspond le mieux à notre problème, nous les introduisons succinctement dans les parties suivantes."
   ]
  },
  {
   "cell_type": "code",
   "execution_count": null,
   "id": "5fc673ec-0cf1-4e70-b001-c3218d063365",
   "metadata": {},
   "outputs": [],
   "source": [
    "from sklearn.naive_bayes import GaussianNB, MultinomialNB, BernoulliNB, ComplementNB, CategoricalNB"
   ]
  },
  {
   "cell_type": "code",
   "execution_count": null,
   "id": "7ac1a582-7095-47bf-8900-96d034b81374",
   "metadata": {},
   "outputs": [],
   "source": [
    "galaxies = load_galaxies(n_samples=100)\n",
    "X, y = galaxies.data, galaxies.target\n",
    "X_train, X_test, y_train, y_test = train_test_split(X, y, test_size=0.3, random_state=1)\n",
    "\n",
    "classifiers = [GaussianNB(), MultinomialNB(), BernoulliNB(), ComplementNB()] #, CategoricalNB()]\n",
    "\n",
    "\n",
    "for classifier in classifiers:\n",
    "    # pipeline = Pipeline([('scale', MinMaxScaler()), ('clf', classifier)])\n",
    "    # clf = make_pipeline(MinMaxScaler(), classifier)\n",
    "    classifier.fit(X_train, y_train)\n",
    "    predictions = classifier.predict(X_test)\n",
    "    score = accuracy_score(y_test, predictions)\n",
    "    # print(confusion_matrix(y_test, predictions))\n",
    "    disp = ConfusionMatrixDisplay.from_predictions(y_test, predictions)\n",
    "    disp.figure_.suptitle(f\"{classifier.__class__.__name__}, accuracy ={score: .2f}\")\n",
    "    plt.savefig(f\"plots/{classifier.__class__.__name__}.jpg\");"
   ]
  },
  {
   "cell_type": "markdown",
   "id": "5442942d-c4dd-4701-a789-7cfe9297c1eb",
   "metadata": {},
   "source": [
    "## Automated research"
   ]
  },
  {
   "cell_type": "code",
   "execution_count": null,
   "id": "d7285c1c-8c8f-45ec-93ca-9700db32e84a",
   "metadata": {},
   "outputs": [],
   "source": [
    "# Code source: Gaël Varoquaux\n",
    "#              Andreas Müller\n",
    "# Modified for documentation by Jaques Grobler\n",
    "# License: BSD 3 clause\n",
    "# https://scikit-learn.org/stable/auto_examples/classification/plot_classifier_comparison.html\n",
    "import numpy as np\n",
    "import matplotlib.pyplot as plt\n",
    "from matplotlib.colors import ListedColormap\n",
    "from sklearn.model_selection import train_test_split\n",
    "from sklearn.preprocessing import StandardScaler\n",
    "from sklearn.pipeline import make_pipeline\n",
    "from sklearn.datasets import make_moons, make_circles, make_classification\n",
    "from sklearn.neural_network import MLPClassifier\n",
    "from sklearn.neighbors import KNeighborsClassifier\n",
    "from sklearn.svm import SVC\n",
    "from sklearn.gaussian_process import GaussianProcessClassifier\n",
    "from sklearn.gaussian_process.kernels import RBF\n",
    "from sklearn.tree import DecisionTreeClassifier\n",
    "from sklearn.ensemble import RandomForestClassifier, AdaBoostClassifier\n",
    "from sklearn.naive_bayes import GaussianNB\n",
    "from sklearn.discriminant_analysis import QuadraticDiscriminantAnalysis\n",
    "from sklearn.inspection import DecisionBoundaryDisplay\n",
    "\n",
    "names = [\n",
    "    \"Nearest Neighbors\",\n",
    "    \"Linear SVM\",\n",
    "    \"RBF SVM\",\n",
    "    \"Gaussian Process\",\n",
    "    \"Decision Tree\",\n",
    "    \"Random Forest\",\n",
    "    \"Neural Net\",\n",
    "    \"AdaBoost\",\n",
    "    \"Naive Bayes\",\n",
    "    \"QDA\",\n",
    "]\n",
    "\n",
    "classifiers = [\n",
    "    KNeighborsClassifier(3),\n",
    "    SVC(kernel=\"linear\", C=0.025),\n",
    "    SVC(gamma=2, C=1),\n",
    "    GaussianProcessClassifier(1.0 * RBF(1.0)),\n",
    "    DecisionTreeClassifier(max_depth=5),\n",
    "    RandomForestClassifier(max_depth=5, n_estimators=10, max_features=1),\n",
    "    MLPClassifier(alpha=1, max_iter=1000),\n",
    "    AdaBoostClassifier(),\n",
    "    GaussianNB(),\n",
    "    QuadraticDiscriminantAnalysis(),\n",
    "]"
   ]
  },
  {
   "cell_type": "code",
   "execution_count": null,
   "id": "0d562c69-a5ec-43d1-95b3-b6db71891e15",
   "metadata": {},
   "outputs": [],
   "source": [
    "from lblearn.datasets import load_galaxies\n",
    "\n",
    "galaxies = load_galaxies(n_samples=150)\n",
    "X, y = galaxies.data, galaxies.target\n",
    "X_train, X_test, y_train, y_test = train_test_split(X, y, test_size=0.4, random_state=42)\n",
    "dataset = {}\n",
    "for name, clf in zip(names, classifiers):\n",
    "    clf = make_pipeline(StandardScaler(), clf)\n",
    "    clf.fit(X_train, y_train)\n",
    "    predicted = clf.predict(X_test)\n",
    "    # disp = ConfusionMatrixDisplay.from_predictions\n",
    "    cm = confusion_matrix(y_test, predicted)\n",
    "\n",
    "# For each cell in the confusion matrix, add the corresponding ground truths\n",
    "# and predictions to the lists\n",
    "    y_true = []\n",
    "    y_pred = []\n",
    "    for gt in range(len(cm)):\n",
    "        for pred in range(len(cm)):\n",
    "            y_true += [gt] * cm[gt][pred]\n",
    "            y_pred += [pred] * cm[gt][pred]\n",
    "\n",
    "    print(\n",
    "        f\"Classification report rebuilt from confusion matrix for {name}:\\n\"\n",
    "        f\"{classification_report(y_true, y_pred)}\\n\"\n",
    "    )\n",
    "    score = accuracy_score(y_test, y_pred)\n",
    "    dataset[name] = score"
   ]
  },
  {
   "cell_type": "code",
   "execution_count": null,
   "id": "b61395a8-fec2-4f72-bcda-1fecdd93cf6e",
   "metadata": {},
   "outputs": [],
   "source": [
    "dataset = dict(reversed(sorted(dataset.items(), key=lambda item: item[1])))"
   ]
  },
  {
   "cell_type": "code",
   "execution_count": null,
   "id": "f99f36f3-ad91-41a2-8846-78e1bf50cc5e",
   "metadata": {},
   "outputs": [],
   "source": [
    "import pandas as pd\n",
    "from IPython.display import display, HTML\n",
    "# Créer un dataframe de test\n",
    "#df = pd.DataFrame({'Nom': ['Alice', 'Bob', 'Charlie'], 'Age': [25, 30, 35]})\n",
    "df_scores = pd.DataFrame(dataset.items(), columns=['Algorithm', 'Score'])\n",
    "# Afficher le dataframe en Markdown\n",
    "df_scores"
   ]
  },
  {
   "cell_type": "code",
   "execution_count": null,
   "id": "fd1001f8-86b3-499e-a5bb-c213068751c6",
   "metadata": {},
   "outputs": [],
   "source": [
    "# preprocess dataset, split into training and test part\n",
    "X, y = galaxies.data, galaxies.target\n",
    "X_train, X_test, y_train, y_test = train_test_split(X, y, test_size=0.4, random_state=42)\n",
    "for name, clf in zip(names, classifiers):\n",
    "    clf = make_pipeline(StandardScaler(), clf)\n",
    "    clf.fit(X_train, y_train)\n",
    "    y_pred = clf.predict(X_test)\n",
    "    score = accuracy_score(y_test, y_pred)\n",
    "    disp = ConfusionMatrixDisplay.from_predictions(y_test, y_pred)\n",
    "    #print(f\"Confusion matrix:\\n{disp.confusion_matrix}\")\n",
    "    disp.figure_.suptitle(f\"{name}, accuracy={score: .2f}\");\n",
    "    #plt.imshow(confusion_matrix(y_test, y_pred),cmap='Blues', interpolation='nearest')\n",
    "    #plt.grid(False)\n",
    "    #plt.ylabel('True')\n",
    "    #plt.xlabel('Predicted');"
   ]
  },
  {
   "cell_type": "markdown",
   "id": "d21c9bff-1577-47bb-a2fa-b65aae298b13",
   "metadata": {},
   "source": [
    "In the field of machine learning and specifically the problem of statistical classification, a confusion matrix, also known as an error matrix,[11] is a specific table layout that allows visualization of the performance of an algorithm, typically a supervised learning one (in unsupervised learning it is usually called a matching matrix). Each row of the matrix represents the instances in an actual class while each column represents the instances in a predicted class, or vice versa – both variants are found in the literature.[12] The name stems from the fact that it makes it easy to see whether the system is confusing two classes (i.e. commonly mislabeling one as another).\n",
    "\n",
    "It is a special kind of contingency table, with two dimensions (\"actual\" and \"predicted\"), and identical sets of \"classes\" in both dimensions (each combination of dimension and class is a variable in the contingency table)."
   ]
  },
  {
   "cell_type": "code",
   "execution_count": null,
   "id": "24a1dc64-6537-4784-b62c-30cd0d88480f",
   "metadata": {},
   "outputs": [],
   "source": []
  }
 ],
 "metadata": {
  "kernelspec": {
   "display_name": "Python 3 (ipykernel)",
   "language": "python",
   "name": "python3"
  },
  "language_info": {
   "codemirror_mode": {
    "name": "ipython",
    "version": 3
   },
   "file_extension": ".py",
   "mimetype": "text/x-python",
   "name": "python",
   "nbconvert_exporter": "python",
   "pygments_lexer": "ipython3",
   "version": "3.10.6"
  }
 },
 "nbformat": 4,
 "nbformat_minor": 5
}
